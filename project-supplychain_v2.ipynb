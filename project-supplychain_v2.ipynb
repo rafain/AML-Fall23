{
 "cells": [
  {
   "cell_type": "code",
   "execution_count": 33,
   "metadata": {},
   "outputs": [],
   "source": [
    "import pandas as pd\n",
    "import numpy as np\n",
    "import matplotlib.pyplot as plt"
   ]
  },
  {
   "cell_type": "markdown",
   "metadata": {},
   "source": [
    "### Data Cleaning"
   ]
  },
  {
   "cell_type": "code",
   "execution_count": 2,
   "metadata": {},
   "outputs": [
    {
     "data": {
      "text/plain": [
       "Type                                                                 TRANSFER\n",
       "Days for shipping (real)                                                    5\n",
       "Days for shipment (scheduled)                                               4\n",
       "Benefit per order                                                  146.139999\n",
       "Sales per customer                                                     298.25\n",
       "Delivery Status                                                 Late delivery\n",
       "Late_delivery_risk                                                          1\n",
       "Category Id                                                                73\n",
       "Category Name                                                  Sporting Goods\n",
       "Customer City                                                      Rio Grande\n",
       "Customer Country                                                  Puerto Rico\n",
       "Customer Email                                                      XXXXXXXXX\n",
       "Customer Fname                                                        Gillian\n",
       "Customer Id                                                             19417\n",
       "Customer Lname                                                        Camacho\n",
       "Customer Password                                                   XXXXXXXXX\n",
       "Customer Segment                                                  Home Office\n",
       "Customer State                                                             PR\n",
       "Customer Street                                          6750 Stony Fawn Wood\n",
       "Customer Zipcode                                                          745\n",
       "Department Id                                                               2\n",
       "Department Name                                                       Fitness\n",
       "Latitude                                                            42.256458\n",
       "Longitude                                                          -83.416885\n",
       "Market                                                           Pacific Asia\n",
       "Order City                                                          Toowoomba\n",
       "Order Country                                                       Australia\n",
       "Order Customer Id                                                       19417\n",
       "order date (DateOrders)                                       1/12/2018 10:11\n",
       "Order Id                                                                75864\n",
       "Order Item Cardprod Id                                                   1360\n",
       "Order Item Discount                                                      29.5\n",
       "Order Item Discount Rate                                                 0.09\n",
       "Order Item Id                                                          179179\n",
       "Order Item Product Price                                               327.75\n",
       "Order Item Profit Ratio                                                  0.49\n",
       "Order Item Quantity                                                         1\n",
       "Sales                                                                  327.75\n",
       "Order Item Total                                                       298.25\n",
       "Order Profit Per Order                                             146.139999\n",
       "Order Region                                                          Oceania\n",
       "Order State                                                        Queensland\n",
       "Order Status                                                          PENDING\n",
       "Order Zipcode                                                             NaN\n",
       "Product Card Id                                                          1360\n",
       "Product Category Id                                                        73\n",
       "Product Description                                                       NaN\n",
       "Product Image                    http://images.acmesports.sports/Smart+watch \n",
       "Product Name                                                     Smart watch \n",
       "Product Price                                                          327.75\n",
       "Product Status                                                              0\n",
       "shipping date (DateOrders)                                    1/17/2018 10:11\n",
       "Shipping Mode                                                  Standard Class\n",
       "Name: 390, dtype: object"
      ]
     },
     "execution_count": 2,
     "metadata": {},
     "output_type": "execute_result"
    }
   ],
   "source": [
    "df = pd.read_csv(\"DataCoSupplyChainDataset.csv\", encoding='latin-1', dtype={\"Customer Zipcode\": str})\n",
    "df.loc[390]"
   ]
  },
  {
   "cell_type": "code",
   "execution_count": 66,
   "metadata": {},
   "outputs": [
    {
     "data": {
      "text/plain": [
       "Type                                    TRANSFER\n",
       "Days for shipping (real)                       5\n",
       "Days for shipment (scheduled)                  4\n",
       "Delivery Status                    Late delivery\n",
       "Late_delivery_risk                             1\n",
       "Category Name                     Sporting Goods\n",
       "Customer City                         Rio Grande\n",
       "Customer Country                     Puerto Rico\n",
       "Customer Id                                19417\n",
       "Customer Segment                     Home Office\n",
       "Customer State                                PR\n",
       "Customer Zipcode                             745\n",
       "Department Id                                  2\n",
       "Department Name                          Fitness\n",
       "Latitude                               42.256458\n",
       "Longitude                             -83.416885\n",
       "Market                              Pacific Asia\n",
       "Order City                             Toowoomba\n",
       "Order Country                          Australia\n",
       "order date (DateOrders)          1/12/2018 10:11\n",
       "Order Id                                   75864\n",
       "Order Item Discount                         29.5\n",
       "Order Item Discount Rate                    0.09\n",
       "Order Item Profit Ratio                     0.49\n",
       "Order Item Quantity                            1\n",
       "Sales                                     327.75\n",
       "Order Item Total                          298.25\n",
       "Order Profit Per Order                146.139999\n",
       "Order Region                             Oceania\n",
       "Order State                           Queensland\n",
       "Order Status                             PENDING\n",
       "Product Card Id                             1360\n",
       "Product Category Id                           73\n",
       "Product Name                        Smart watch \n",
       "Product Price                             327.75\n",
       "shipping date (DateOrders)       1/17/2018 10:11\n",
       "Shipping Mode                     Standard Class\n",
       "Name: 390, dtype: object"
      ]
     },
     "execution_count": 66,
     "metadata": {},
     "output_type": "execute_result"
    }
   ],
   "source": [
    "# clean out columns and rows with NA\n",
    "df.drop(columns=['Product Description', 'Order Zipcode'], inplace=True)\n",
    "df.drop(df[ df['Customer Zipcode'].isna() ].index, inplace=True)\n",
    "\n",
    "\n",
    "# Remove columns that do not have information for the model\n",
    "'''\n",
    "- Customer email (Personal Information)\n",
    "- Customer Fname (Personal Information)\n",
    "#### - Customer Id (Personal Information)\n",
    "- Customer Lname (Personal Information)\n",
    "- Customer Password (Personal Information)\n",
    "- Customer Street (feel there is no way to actually extract some information from this, but there might be a way)\n",
    "- Category Id (repeated values as Product Category Id)\n",
    "- Order Customer Id (repeated values with Customer Id)\n",
    "- Benefit per order (repeated values with Order Profit Per Order)\n",
    "- Sales per customer (repeated values with Order Item Total)\n",
    "- Order Item Product Price (repeated values with Product Price)\n",
    "- Order Item Cardprod Id (repeated values with Product Card Id)\n",
    "- Product Image (links with images)\n",
    "- Product Status (everything is 0)\n",
    "- Order Item Id (it is like an index that goes from 1 to the len of the dataset)\n",
    "'''\n",
    "\n",
    "df.drop(columns=[\n",
    "    \"Customer Email\",\"Customer Fname\",\"Customer Lname\",\"Customer Password\",\"Customer Street\",\n",
    "    \"Category Id\",\"Order Customer Id\",\"Benefit per order\",\"Sales per customer\",\"Order Item Product Price\",\n",
    "    \"Order Item Cardprod Id\",\"Product Image\",\"Product Status\",\"Order Item Id\"\n",
    "], inplace=True)\n",
    "df.loc[390]"
   ]
  },
  {
   "cell_type": "code",
   "execution_count": 67,
   "metadata": {},
   "outputs": [
    {
     "data": {
      "text/plain": [
       "Series([], dtype: float64)"
      ]
     },
     "execution_count": 67,
     "metadata": {},
     "output_type": "execute_result"
    }
   ],
   "source": [
    "# Make sure we don't have any NAs in our dataframe\n",
    "cols = df.columns[df.isna().sum() > 0].values\n",
    "df[cols].isna().sum()"
   ]
  },
  {
   "cell_type": "code",
   "execution_count": 68,
   "metadata": {},
   "outputs": [
    {
     "data": {
      "text/plain": [
       "Order Id\n",
       "39433    5\n",
       "42199    5\n",
       "42262    5\n",
       "42258    5\n",
       "42246    5\n",
       "        ..\n",
       "43760    1\n",
       "43759    1\n",
       "43750    1\n",
       "43742    1\n",
       "77204    1\n",
       "Name: Product Card Id, Length: 65749, dtype: int64"
      ]
     },
     "execution_count": 68,
     "metadata": {},
     "output_type": "execute_result"
    }
   ],
   "source": [
    "df.groupby(\"Order Id\")[\"Product Card Id\"].count().sort_values(ascending=False)"
   ]
  },
  {
   "cell_type": "code",
   "execution_count": 69,
   "metadata": {},
   "outputs": [
    {
     "data": {
      "text/html": [
       "<div>\n",
       "<style scoped>\n",
       "    .dataframe tbody tr th:only-of-type {\n",
       "        vertical-align: middle;\n",
       "    }\n",
       "\n",
       "    .dataframe tbody tr th {\n",
       "        vertical-align: top;\n",
       "    }\n",
       "\n",
       "    .dataframe thead th {\n",
       "        text-align: right;\n",
       "    }\n",
       "</style>\n",
       "<table border=\"1\" class=\"dataframe\">\n",
       "  <thead>\n",
       "    <tr style=\"text-align: right;\">\n",
       "      <th></th>\n",
       "      <th>Order Id</th>\n",
       "      <th>order date (DateOrders)</th>\n",
       "      <th>Customer City</th>\n",
       "      <th>Order City</th>\n",
       "      <th>Order Item Profit Ratio</th>\n",
       "      <th>Order Item Quantity</th>\n",
       "    </tr>\n",
       "  </thead>\n",
       "  <tbody>\n",
       "    <tr>\n",
       "      <th>110108</th>\n",
       "      <td>2407</td>\n",
       "      <td>2/5/2015 2:55</td>\n",
       "      <td>Meridian</td>\n",
       "      <td>San Francisco de Macorís</td>\n",
       "      <td>0.30</td>\n",
       "      <td>1</td>\n",
       "    </tr>\n",
       "    <tr>\n",
       "      <th>110148</th>\n",
       "      <td>2407</td>\n",
       "      <td>2/5/2015 2:55</td>\n",
       "      <td>Meridian</td>\n",
       "      <td>San Francisco de Macorís</td>\n",
       "      <td>0.31</td>\n",
       "      <td>1</td>\n",
       "    </tr>\n",
       "    <tr>\n",
       "      <th>114237</th>\n",
       "      <td>2407</td>\n",
       "      <td>2/5/2015 2:55</td>\n",
       "      <td>Meridian</td>\n",
       "      <td>San Francisco de Macorís</td>\n",
       "      <td>0.28</td>\n",
       "      <td>3</td>\n",
       "    </tr>\n",
       "    <tr>\n",
       "      <th>116397</th>\n",
       "      <td>2407</td>\n",
       "      <td>2/5/2015 2:55</td>\n",
       "      <td>Meridian</td>\n",
       "      <td>San Francisco de Macorís</td>\n",
       "      <td>0.08</td>\n",
       "      <td>2</td>\n",
       "    </tr>\n",
       "    <tr>\n",
       "      <th>116419</th>\n",
       "      <td>2407</td>\n",
       "      <td>2/5/2015 2:55</td>\n",
       "      <td>Meridian</td>\n",
       "      <td>San Francisco de Macorís</td>\n",
       "      <td>-2.60</td>\n",
       "      <td>2</td>\n",
       "    </tr>\n",
       "  </tbody>\n",
       "</table>\n",
       "</div>"
      ],
      "text/plain": [
       "        Order Id order date (DateOrders) Customer City  \\\n",
       "110108      2407           2/5/2015 2:55      Meridian   \n",
       "110148      2407           2/5/2015 2:55      Meridian   \n",
       "114237      2407           2/5/2015 2:55      Meridian   \n",
       "116397      2407           2/5/2015 2:55      Meridian   \n",
       "116419      2407           2/5/2015 2:55      Meridian   \n",
       "\n",
       "                      Order City  Order Item Profit Ratio  Order Item Quantity  \n",
       "110108  San Francisco de Macorís                     0.30                    1  \n",
       "110148  San Francisco de Macorís                     0.31                    1  \n",
       "114237  San Francisco de Macorís                     0.28                    3  \n",
       "116397  San Francisco de Macorís                     0.08                    2  \n",
       "116419  San Francisco de Macorís                    -2.60                    2  "
      ]
     },
     "execution_count": 69,
     "metadata": {},
     "output_type": "execute_result"
    }
   ],
   "source": [
    "df[ df[\"Order Id\"] == 2407][[\"Order Id\", \"order date (DateOrders)\", \"Customer City\", \"Order City\", \"Order Item Profit Ratio\", \"Order Item Quantity\"]]"
   ]
  },
  {
   "cell_type": "code",
   "execution_count": 70,
   "metadata": {},
   "outputs": [
    {
     "name": "stdout",
     "output_type": "stream",
     "text": [
      "1939.98999\n",
      "7.489999771\n"
     ]
    },
    {
     "data": {
      "text/plain": [
       "<Axes: >"
      ]
     },
     "execution_count": 70,
     "metadata": {},
     "output_type": "execute_result"
    },
    {
     "data": {
      "image/png": "[encoded data removed]",
      "text/plain": [
       "<Figure size 640x480 with 1 Axes>"
      ]
     },
     "metadata": {},
     "output_type": "display_data"
    }
   ],
   "source": [
    "col_name = 'Order Item Total'\n",
    "print(df[col_name].max())\n",
    "print(df[col_name].min())\n",
    "df[col_name].hist()"
   ]
  },
  {
   "cell_type": "code",
   "execution_count": 73,
   "metadata": {},
   "outputs": [
    {
     "data": {
      "text/plain": [
       "Index(['Type', 'Days for shipping (real)', 'Days for shipment (scheduled)',\n",
       "       'Delivery Status', 'Late_delivery_risk', 'Category Name',\n",
       "       'Customer City', 'Customer Country', 'Customer Id', 'Customer Segment',\n",
       "       'Customer State', 'Customer Zipcode', 'Department Id',\n",
       "       'Department Name', 'Latitude', 'Longitude', 'Market', 'Order City',\n",
       "       'Order Country', 'order date (DateOrders)', 'Order Id',\n",
       "       'Order Item Discount', 'Order Item Discount Rate',\n",
       "       'Order Item Profit Ratio', 'Order Item Quantity', 'Sales',\n",
       "       'Order Item Total', 'Order Profit Per Order', 'Order Region',\n",
       "       'Order State', 'Order Status', 'Product Card Id', 'Product Category Id',\n",
       "       'Product Name', 'Product Price', 'shipping date (DateOrders)',\n",
       "       'Shipping Mode'],\n",
       "      dtype='object')"
      ]
     },
     "execution_count": 73,
     "metadata": {},
     "output_type": "execute_result"
    }
   ],
   "source": [
    "df.columns"
   ]
  },
  {
   "cell_type": "code",
   "execution_count": 75,
   "metadata": {},
   "outputs": [
    {
     "data": {
      "text/html": [
       "<div>\n",
       "<style scoped>\n",
       "    .dataframe tbody tr th:only-of-type {\n",
       "        vertical-align: middle;\n",
       "    }\n",
       "\n",
       "    .dataframe tbody tr th {\n",
       "        vertical-align: top;\n",
       "    }\n",
       "\n",
       "    .dataframe thead th {\n",
       "        text-align: right;\n",
       "    }\n",
       "</style>\n",
       "<table border=\"1\" class=\"dataframe\">\n",
       "  <thead>\n",
       "    <tr style=\"text-align: right;\">\n",
       "      <th></th>\n",
       "      <th>Type</th>\n",
       "      <th>Days for shipping (real)</th>\n",
       "      <th>Days for shipment (scheduled)</th>\n",
       "      <th>Delivery Status</th>\n",
       "      <th>Late_delivery_risk</th>\n",
       "      <th>Category Name</th>\n",
       "      <th>Customer City</th>\n",
       "      <th>Customer Country</th>\n",
       "      <th>Customer Id</th>\n",
       "      <th>Customer Segment</th>\n",
       "      <th>...</th>\n",
       "      <th>Order Profit Per Order</th>\n",
       "      <th>Order Region</th>\n",
       "      <th>Order State</th>\n",
       "      <th>Order Status</th>\n",
       "      <th>Product Card Id</th>\n",
       "      <th>Product Category Id</th>\n",
       "      <th>Product Name</th>\n",
       "      <th>Product Price</th>\n",
       "      <th>shipping date (DateOrders)</th>\n",
       "      <th>Shipping Mode</th>\n",
       "    </tr>\n",
       "  </thead>\n",
       "  <tbody>\n",
       "    <tr>\n",
       "      <th>0</th>\n",
       "      <td>DEBIT</td>\n",
       "      <td>3</td>\n",
       "      <td>4</td>\n",
       "      <td>Advance shipping</td>\n",
       "      <td>0</td>\n",
       "      <td>Sporting Goods</td>\n",
       "      <td>Caguas</td>\n",
       "      <td>Puerto Rico</td>\n",
       "      <td>20755</td>\n",
       "      <td>Consumer</td>\n",
       "      <td>...</td>\n",
       "      <td>91.250000</td>\n",
       "      <td>Southeast Asia</td>\n",
       "      <td>Java Occidental</td>\n",
       "      <td>COMPLETE</td>\n",
       "      <td>1360</td>\n",
       "      <td>73</td>\n",
       "      <td>Smart watch</td>\n",
       "      <td>327.75</td>\n",
       "      <td>2/3/2018 22:56</td>\n",
       "      <td>Standard Class</td>\n",
       "    </tr>\n",
       "    <tr>\n",
       "      <th>1</th>\n",
       "      <td>TRANSFER</td>\n",
       "      <td>5</td>\n",
       "      <td>4</td>\n",
       "      <td>Late delivery</td>\n",
       "      <td>1</td>\n",
       "      <td>Sporting Goods</td>\n",
       "      <td>Caguas</td>\n",
       "      <td>Puerto Rico</td>\n",
       "      <td>19492</td>\n",
       "      <td>Consumer</td>\n",
       "      <td>...</td>\n",
       "      <td>-249.089996</td>\n",
       "      <td>South Asia</td>\n",
       "      <td>Rajastán</td>\n",
       "      <td>PENDING</td>\n",
       "      <td>1360</td>\n",
       "      <td>73</td>\n",
       "      <td>Smart watch</td>\n",
       "      <td>327.75</td>\n",
       "      <td>1/18/2018 12:27</td>\n",
       "      <td>Standard Class</td>\n",
       "    </tr>\n",
       "    <tr>\n",
       "      <th>2</th>\n",
       "      <td>CASH</td>\n",
       "      <td>4</td>\n",
       "      <td>4</td>\n",
       "      <td>Shipping on time</td>\n",
       "      <td>0</td>\n",
       "      <td>Sporting Goods</td>\n",
       "      <td>San Jose</td>\n",
       "      <td>EE. UU.</td>\n",
       "      <td>19491</td>\n",
       "      <td>Consumer</td>\n",
       "      <td>...</td>\n",
       "      <td>-247.779999</td>\n",
       "      <td>South Asia</td>\n",
       "      <td>Rajastán</td>\n",
       "      <td>CLOSED</td>\n",
       "      <td>1360</td>\n",
       "      <td>73</td>\n",
       "      <td>Smart watch</td>\n",
       "      <td>327.75</td>\n",
       "      <td>1/17/2018 12:06</td>\n",
       "      <td>Standard Class</td>\n",
       "    </tr>\n",
       "    <tr>\n",
       "      <th>3</th>\n",
       "      <td>DEBIT</td>\n",
       "      <td>3</td>\n",
       "      <td>4</td>\n",
       "      <td>Advance shipping</td>\n",
       "      <td>0</td>\n",
       "      <td>Sporting Goods</td>\n",
       "      <td>Los Angeles</td>\n",
       "      <td>EE. UU.</td>\n",
       "      <td>19490</td>\n",
       "      <td>Home Office</td>\n",
       "      <td>...</td>\n",
       "      <td>22.860001</td>\n",
       "      <td>Oceania</td>\n",
       "      <td>Queensland</td>\n",
       "      <td>COMPLETE</td>\n",
       "      <td>1360</td>\n",
       "      <td>73</td>\n",
       "      <td>Smart watch</td>\n",
       "      <td>327.75</td>\n",
       "      <td>1/16/2018 11:45</td>\n",
       "      <td>Standard Class</td>\n",
       "    </tr>\n",
       "    <tr>\n",
       "      <th>4</th>\n",
       "      <td>PAYMENT</td>\n",
       "      <td>2</td>\n",
       "      <td>4</td>\n",
       "      <td>Advance shipping</td>\n",
       "      <td>0</td>\n",
       "      <td>Sporting Goods</td>\n",
       "      <td>Caguas</td>\n",
       "      <td>Puerto Rico</td>\n",
       "      <td>19489</td>\n",
       "      <td>Corporate</td>\n",
       "      <td>...</td>\n",
       "      <td>134.210007</td>\n",
       "      <td>Oceania</td>\n",
       "      <td>Queensland</td>\n",
       "      <td>PENDING_PAYMENT</td>\n",
       "      <td>1360</td>\n",
       "      <td>73</td>\n",
       "      <td>Smart watch</td>\n",
       "      <td>327.75</td>\n",
       "      <td>1/15/2018 11:24</td>\n",
       "      <td>Standard Class</td>\n",
       "    </tr>\n",
       "  </tbody>\n",
       "</table>\n",
       "<p>5 rows × 37 columns</p>\n",
       "</div>"
      ],
      "text/plain": [
       "       Type  Days for shipping (real)  Days for shipment (scheduled)  \\\n",
       "0     DEBIT                         3                              4   \n",
       "1  TRANSFER                         5                              4   \n",
       "2      CASH                         4                              4   \n",
       "3     DEBIT                         3                              4   \n",
       "4   PAYMENT                         2                              4   \n",
       "\n",
       "    Delivery Status  Late_delivery_risk   Category Name Customer City  \\\n",
       "0  Advance shipping                   0  Sporting Goods        Caguas   \n",
       "1     Late delivery                   1  Sporting Goods        Caguas   \n",
       "2  Shipping on time                   0  Sporting Goods      San Jose   \n",
       "3  Advance shipping                   0  Sporting Goods   Los Angeles   \n",
       "4  Advance shipping                   0  Sporting Goods        Caguas   \n",
       "\n",
       "  Customer Country  Customer Id Customer Segment  ... Order Profit Per Order  \\\n",
       "0      Puerto Rico        20755         Consumer  ...              91.250000   \n",
       "1      Puerto Rico        19492         Consumer  ...            -249.089996   \n",
       "2          EE. UU.        19491         Consumer  ...            -247.779999   \n",
       "3          EE. UU.        19490      Home Office  ...              22.860001   \n",
       "4      Puerto Rico        19489        Corporate  ...             134.210007   \n",
       "\n",
       "     Order Region      Order State     Order Status  Product Card Id  \\\n",
       "0  Southeast Asia  Java Occidental         COMPLETE             1360   \n",
       "1      South Asia         Rajastán          PENDING             1360   \n",
       "2      South Asia         Rajastán           CLOSED             1360   \n",
       "3         Oceania       Queensland         COMPLETE             1360   \n",
       "4         Oceania       Queensland  PENDING_PAYMENT             1360   \n",
       "\n",
       "   Product Category Id  Product Name Product Price shipping date (DateOrders)  \\\n",
       "0                   73  Smart watch         327.75             2/3/2018 22:56   \n",
       "1                   73  Smart watch         327.75            1/18/2018 12:27   \n",
       "2                   73  Smart watch         327.75            1/17/2018 12:06   \n",
       "3                   73  Smart watch         327.75            1/16/2018 11:45   \n",
       "4                   73  Smart watch         327.75            1/15/2018 11:24   \n",
       "\n",
       "    Shipping Mode  \n",
       "0  Standard Class  \n",
       "1  Standard Class  \n",
       "2  Standard Class  \n",
       "3  Standard Class  \n",
       "4  Standard Class  \n",
       "\n",
       "[5 rows x 37 columns]"
      ]
     },
     "execution_count": 75,
     "metadata": {},
     "output_type": "execute_result"
    }
   ],
   "source": [
    "df.head(5)"
   ]
  },
  {
   "cell_type": "code",
   "execution_count": 218,
   "metadata": {},
   "outputs": [
    {
     "data": {
      "text/html": [
       "<div>\n",
       "<style scoped>\n",
       "    .dataframe tbody tr th:only-of-type {\n",
       "        vertical-align: middle;\n",
       "    }\n",
       "\n",
       "    .dataframe tbody tr th {\n",
       "        vertical-align: top;\n",
       "    }\n",
       "\n",
       "    .dataframe thead th {\n",
       "        text-align: right;\n",
       "    }\n",
       "</style>\n",
       "<table border=\"1\" class=\"dataframe\">\n",
       "  <thead>\n",
       "    <tr style=\"text-align: right;\">\n",
       "      <th></th>\n",
       "      <th>Order Id</th>\n",
       "      <th>Order Item Discount</th>\n",
       "      <th>Order Item Discount Rate</th>\n",
       "      <th>Order Item Profit Ratio</th>\n",
       "      <th>Order Item Quantity</th>\n",
       "      <th>Sales</th>\n",
       "      <th>Order Item Total</th>\n",
       "      <th>Order Profit Per Order</th>\n",
       "      <th>Order Region</th>\n",
       "      <th>Order State</th>\n",
       "      <th>Order Status</th>\n",
       "      <th>Product Card Id</th>\n",
       "      <th>Product Category Id</th>\n",
       "      <th>Product Name</th>\n",
       "      <th>Product Price</th>\n",
       "      <th>Shipping Mode</th>\n",
       "    </tr>\n",
       "  </thead>\n",
       "  <tbody>\n",
       "    <tr>\n",
       "      <th>40</th>\n",
       "      <td>75900</td>\n",
       "      <td>29.500000</td>\n",
       "      <td>0.09</td>\n",
       "      <td>0.48</td>\n",
       "      <td>1</td>\n",
       "      <td>327.750000</td>\n",
       "      <td>298.250000</td>\n",
       "      <td>143.160004</td>\n",
       "      <td>Southeast Asia</td>\n",
       "      <td>Singapur</td>\n",
       "      <td>PENDING_PAYMENT</td>\n",
       "      <td>1360</td>\n",
       "      <td>73</td>\n",
       "      <td>Smart watch</td>\n",
       "      <td>327.750000</td>\n",
       "      <td>Same Day</td>\n",
       "    </tr>\n",
       "    <tr>\n",
       "      <th>41</th>\n",
       "      <td>75899</td>\n",
       "      <td>32.779999</td>\n",
       "      <td>0.10</td>\n",
       "      <td>0.46</td>\n",
       "      <td>1</td>\n",
       "      <td>327.750000</td>\n",
       "      <td>294.980011</td>\n",
       "      <td>135.690002</td>\n",
       "      <td>Southeast Asia</td>\n",
       "      <td>Singapur</td>\n",
       "      <td>COMPLETE</td>\n",
       "      <td>1360</td>\n",
       "      <td>73</td>\n",
       "      <td>Smart watch</td>\n",
       "      <td>327.750000</td>\n",
       "      <td>Same Day</td>\n",
       "    </tr>\n",
       "    <tr>\n",
       "      <th>42</th>\n",
       "      <td>75898</td>\n",
       "      <td>39.330002</td>\n",
       "      <td>0.12</td>\n",
       "      <td>0.46</td>\n",
       "      <td>1</td>\n",
       "      <td>327.750000</td>\n",
       "      <td>288.420013</td>\n",
       "      <td>132.669998</td>\n",
       "      <td>Southeast Asia</td>\n",
       "      <td>Sumatra Septentrional</td>\n",
       "      <td>CLOSED</td>\n",
       "      <td>1360</td>\n",
       "      <td>73</td>\n",
       "      <td>Smart watch</td>\n",
       "      <td>327.750000</td>\n",
       "      <td>Standard Class</td>\n",
       "    </tr>\n",
       "    <tr>\n",
       "      <th>43</th>\n",
       "      <td>75897</td>\n",
       "      <td>42.610001</td>\n",
       "      <td>0.13</td>\n",
       "      <td>0.42</td>\n",
       "      <td>1</td>\n",
       "      <td>327.750000</td>\n",
       "      <td>285.140015</td>\n",
       "      <td>119.760002</td>\n",
       "      <td>Southeast Asia</td>\n",
       "      <td>Sumatra Septentrional</td>\n",
       "      <td>PENDING_PAYMENT</td>\n",
       "      <td>1360</td>\n",
       "      <td>73</td>\n",
       "      <td>Smart watch</td>\n",
       "      <td>327.750000</td>\n",
       "      <td>Standard Class</td>\n",
       "    </tr>\n",
       "    <tr>\n",
       "      <th>44</th>\n",
       "      <td>75896</td>\n",
       "      <td>49.160000</td>\n",
       "      <td>0.15</td>\n",
       "      <td>0.11</td>\n",
       "      <td>1</td>\n",
       "      <td>327.750000</td>\n",
       "      <td>278.589996</td>\n",
       "      <td>31.480000</td>\n",
       "      <td>Oceania</td>\n",
       "      <td>Territorio de la Capital Australiana</td>\n",
       "      <td>COMPLETE</td>\n",
       "      <td>1360</td>\n",
       "      <td>73</td>\n",
       "      <td>Smart watch</td>\n",
       "      <td>327.750000</td>\n",
       "      <td>Standard Class</td>\n",
       "    </tr>\n",
       "    <tr>\n",
       "      <th>45</th>\n",
       "      <td>75895</td>\n",
       "      <td>52.439999</td>\n",
       "      <td>0.16</td>\n",
       "      <td>0.31</td>\n",
       "      <td>1</td>\n",
       "      <td>327.750000</td>\n",
       "      <td>275.309998</td>\n",
       "      <td>86.169998</td>\n",
       "      <td>South Asia</td>\n",
       "      <td>Karnataka</td>\n",
       "      <td>PENDING</td>\n",
       "      <td>1360</td>\n",
       "      <td>73</td>\n",
       "      <td>Smart watch</td>\n",
       "      <td>327.750000</td>\n",
       "      <td>Standard Class</td>\n",
       "    </tr>\n",
       "    <tr>\n",
       "      <th>46</th>\n",
       "      <td>75894</td>\n",
       "      <td>55.720001</td>\n",
       "      <td>0.17</td>\n",
       "      <td>0.48</td>\n",
       "      <td>1</td>\n",
       "      <td>327.750000</td>\n",
       "      <td>272.029999</td>\n",
       "      <td>130.580002</td>\n",
       "      <td>South Asia</td>\n",
       "      <td>Karnataka</td>\n",
       "      <td>PENDING</td>\n",
       "      <td>1360</td>\n",
       "      <td>73</td>\n",
       "      <td>Smart watch</td>\n",
       "      <td>327.750000</td>\n",
       "      <td>Second Class</td>\n",
       "    </tr>\n",
       "    <tr>\n",
       "      <th>47</th>\n",
       "      <td>75893</td>\n",
       "      <td>59.000000</td>\n",
       "      <td>0.18</td>\n",
       "      <td>0.00</td>\n",
       "      <td>1</td>\n",
       "      <td>327.750000</td>\n",
       "      <td>268.760010</td>\n",
       "      <td>0.000000</td>\n",
       "      <td>Eastern Asia</td>\n",
       "      <td>Zhejiang</td>\n",
       "      <td>PROCESSING</td>\n",
       "      <td>1360</td>\n",
       "      <td>73</td>\n",
       "      <td>Smart watch</td>\n",
       "      <td>327.750000</td>\n",
       "      <td>Standard Class</td>\n",
       "    </tr>\n",
       "    <tr>\n",
       "      <th>48</th>\n",
       "      <td>28744</td>\n",
       "      <td>4.800000</td>\n",
       "      <td>0.04</td>\n",
       "      <td>-0.27</td>\n",
       "      <td>2</td>\n",
       "      <td>119.980003</td>\n",
       "      <td>115.180000</td>\n",
       "      <td>-30.750000</td>\n",
       "      <td>South Asia</td>\n",
       "      <td>Uttar Pradesh</td>\n",
       "      <td>PENDING_PAYMENT</td>\n",
       "      <td>365</td>\n",
       "      <td>17</td>\n",
       "      <td>Perfect Fitness Perfect Rip Deck</td>\n",
       "      <td>59.990002</td>\n",
       "      <td>Second Class</td>\n",
       "    </tr>\n",
       "    <tr>\n",
       "      <th>49</th>\n",
       "      <td>45461</td>\n",
       "      <td>0.800000</td>\n",
       "      <td>0.01</td>\n",
       "      <td>-1.55</td>\n",
       "      <td>2</td>\n",
       "      <td>79.980003</td>\n",
       "      <td>79.180000</td>\n",
       "      <td>-122.730003</td>\n",
       "      <td>West Asia</td>\n",
       "      <td>Bursa</td>\n",
       "      <td>PENDING_PAYMENT</td>\n",
       "      <td>627</td>\n",
       "      <td>29</td>\n",
       "      <td>Under Armour Girls' Toddler Spine Surge Runni</td>\n",
       "      <td>39.990002</td>\n",
       "      <td>Second Class</td>\n",
       "    </tr>\n",
       "  </tbody>\n",
       "</table>\n",
       "</div>"
      ],
      "text/plain": [
       "    Order Id  Order Item Discount  Order Item Discount Rate  \\\n",
       "40     75900            29.500000                      0.09   \n",
       "41     75899            32.779999                      0.10   \n",
       "42     75898            39.330002                      0.12   \n",
       "43     75897            42.610001                      0.13   \n",
       "44     75896            49.160000                      0.15   \n",
       "45     75895            52.439999                      0.16   \n",
       "46     75894            55.720001                      0.17   \n",
       "47     75893            59.000000                      0.18   \n",
       "48     28744             4.800000                      0.04   \n",
       "49     45461             0.800000                      0.01   \n",
       "\n",
       "    Order Item Profit Ratio  Order Item Quantity       Sales  \\\n",
       "40                     0.48                    1  327.750000   \n",
       "41                     0.46                    1  327.750000   \n",
       "42                     0.46                    1  327.750000   \n",
       "43                     0.42                    1  327.750000   \n",
       "44                     0.11                    1  327.750000   \n",
       "45                     0.31                    1  327.750000   \n",
       "46                     0.48                    1  327.750000   \n",
       "47                     0.00                    1  327.750000   \n",
       "48                    -0.27                    2  119.980003   \n",
       "49                    -1.55                    2   79.980003   \n",
       "\n",
       "    Order Item Total  Order Profit Per Order    Order Region  \\\n",
       "40        298.250000              143.160004  Southeast Asia   \n",
       "41        294.980011              135.690002  Southeast Asia   \n",
       "42        288.420013              132.669998  Southeast Asia   \n",
       "43        285.140015              119.760002  Southeast Asia   \n",
       "44        278.589996               31.480000         Oceania   \n",
       "45        275.309998               86.169998      South Asia   \n",
       "46        272.029999              130.580002      South Asia   \n",
       "47        268.760010                0.000000    Eastern Asia   \n",
       "48        115.180000              -30.750000      South Asia   \n",
       "49         79.180000             -122.730003       West Asia   \n",
       "\n",
       "                             Order State     Order Status  Product Card Id  \\\n",
       "40                              Singapur  PENDING_PAYMENT             1360   \n",
       "41                              Singapur         COMPLETE             1360   \n",
       "42                 Sumatra Septentrional           CLOSED             1360   \n",
       "43                 Sumatra Septentrional  PENDING_PAYMENT             1360   \n",
       "44  Territorio de la Capital Australiana         COMPLETE             1360   \n",
       "45                             Karnataka          PENDING             1360   \n",
       "46                             Karnataka          PENDING             1360   \n",
       "47                              Zhejiang       PROCESSING             1360   \n",
       "48                         Uttar Pradesh  PENDING_PAYMENT              365   \n",
       "49                                 Bursa  PENDING_PAYMENT              627   \n",
       "\n",
       "    Product Category Id                                   Product Name  \\\n",
       "40                   73                                   Smart watch    \n",
       "41                   73                                   Smart watch    \n",
       "42                   73                                   Smart watch    \n",
       "43                   73                                   Smart watch    \n",
       "44                   73                                   Smart watch    \n",
       "45                   73                                   Smart watch    \n",
       "46                   73                                   Smart watch    \n",
       "47                   73                                   Smart watch    \n",
       "48                   17               Perfect Fitness Perfect Rip Deck   \n",
       "49                   29  Under Armour Girls' Toddler Spine Surge Runni   \n",
       "\n",
       "    Product Price   Shipping Mode  \n",
       "40     327.750000        Same Day  \n",
       "41     327.750000        Same Day  \n",
       "42     327.750000  Standard Class  \n",
       "43     327.750000  Standard Class  \n",
       "44     327.750000  Standard Class  \n",
       "45     327.750000  Standard Class  \n",
       "46     327.750000    Second Class  \n",
       "47     327.750000  Standard Class  \n",
       "48      59.990002    Second Class  \n",
       "49      39.990002    Second Class  "
      ]
     },
     "execution_count": 218,
     "metadata": {},
     "output_type": "execute_result"
    }
   ],
   "source": [
    "df[[\n",
    "    # 'Customer State', 'Customer Zipcode', 'Department Id',\n",
    "    # 'Department Name', 'Latitude', 'Longitude', 'Market', 'Order City',\n",
    "    # 'Order Country', 'order date (DateOrders)', \n",
    "    'Order Id',\n",
    "    'Order Item Discount', 'Order Item Discount Rate',\n",
    "    'Order Item Profit Ratio', 'Order Item Quantity', 'Sales',\n",
    "    'Order Item Total', 'Order Profit Per Order', 'Order Region',\n",
    "    'Order State', 'Order Status', 'Product Card Id', 'Product Category Id',\n",
    "    'Product Name', 'Product Price',\n",
    "    'Shipping Mode']][40:50]"
   ]
  },
  {
   "cell_type": "code",
   "execution_count": 77,
   "metadata": {},
   "outputs": [
    {
     "data": {
      "text/plain": [
       "Index(['Type', 'Days for shipping (real)', 'Days for shipment (scheduled)',\n",
       "       'Delivery Status', 'Late_delivery_risk', 'Category Name',\n",
       "       'Customer City', 'Customer Country', 'Customer Id', 'Customer Segment',\n",
       "       'Customer State', 'Customer Zipcode', 'Department Id',\n",
       "       'Department Name', 'Latitude', 'Longitude', 'Market', 'Order City',\n",
       "       'Order Country', 'order date (DateOrders)', 'Order Id',\n",
       "       'Order Item Discount', 'Order Item Discount Rate',\n",
       "       'Order Item Profit Ratio', 'Order Item Quantity', 'Sales',\n",
       "       'Order Item Total', 'Order Profit Per Order', 'Order Region',\n",
       "       'Order State', 'Order Status', 'Product Card Id', 'Product Category Id',\n",
       "       'Product Name', 'Product Price', 'shipping date (DateOrders)',\n",
       "       'Shipping Mode'],\n",
       "      dtype='object')"
      ]
     },
     "execution_count": 77,
     "metadata": {},
     "output_type": "execute_result"
    }
   ],
   "source": [
    "df.columns"
   ]
  },
  {
   "cell_type": "markdown",
   "metadata": {},
   "source": [
    "### Data Preparation and Transformation\n",
    "\n",
    "*Columns we need to remove*\n",
    "- Late delivery risk: (all of these columns do indeed have a late delivery, going to give us trash results)\n",
    "- shipping date (DateOrders) that has information of when it's shipped and we don't know that at time of prediction\n",
    "- If we go with delivery status drop days for shipping (real), if we go with Days for shipping (real) then Delivery Status\n",
    "\n",
    "\n",
    "*Calculations*\n",
    "- Number of previous orders\n",
    "  - For customer\n",
    "  - For that day\n",
    "- Add a variable for hour of day\n",
    "- Add a variable for weekday\n",
    "- Add a variable for month\n",
    "- Add a variable for day of year\n",
    "- Add a variable for is weekend\n",
    "- Total Order Quantity (number of items ordered in that order)\n",
    "- Total Order Sales ($$ earn in that order)\n"
   ]
  },
  {
   "cell_type": "code",
   "execution_count": 210,
   "metadata": {},
   "outputs": [
    {
     "data": {
      "text/html": [
       "<div>\n",
       "<style scoped>\n",
       "    .dataframe tbody tr th:only-of-type {\n",
       "        vertical-align: middle;\n",
       "    }\n",
       "\n",
       "    .dataframe tbody tr th {\n",
       "        vertical-align: top;\n",
       "    }\n",
       "\n",
       "    .dataframe thead th {\n",
       "        text-align: right;\n",
       "    }\n",
       "</style>\n",
       "<table border=\"1\" class=\"dataframe\">\n",
       "  <thead>\n",
       "    <tr style=\"text-align: right;\">\n",
       "      <th></th>\n",
       "      <th>order date (DateOrders)</th>\n",
       "      <th>order month</th>\n",
       "      <th>order weekday</th>\n",
       "      <th>order hour</th>\n",
       "      <th>order day of year</th>\n",
       "      <th>order is weekend</th>\n",
       "      <th>order date</th>\n",
       "    </tr>\n",
       "  </thead>\n",
       "  <tbody>\n",
       "    <tr>\n",
       "      <th>0</th>\n",
       "      <td>2018-01-31 22:56:00</td>\n",
       "      <td>1</td>\n",
       "      <td>2</td>\n",
       "      <td>22</td>\n",
       "      <td>31</td>\n",
       "      <td>False</td>\n",
       "      <td>2018-01-31</td>\n",
       "    </tr>\n",
       "    <tr>\n",
       "      <th>1</th>\n",
       "      <td>2018-01-13 12:27:00</td>\n",
       "      <td>1</td>\n",
       "      <td>5</td>\n",
       "      <td>12</td>\n",
       "      <td>13</td>\n",
       "      <td>True</td>\n",
       "      <td>2018-01-13</td>\n",
       "    </tr>\n",
       "    <tr>\n",
       "      <th>2</th>\n",
       "      <td>2018-01-13 12:06:00</td>\n",
       "      <td>1</td>\n",
       "      <td>5</td>\n",
       "      <td>12</td>\n",
       "      <td>13</td>\n",
       "      <td>True</td>\n",
       "      <td>2018-01-13</td>\n",
       "    </tr>\n",
       "    <tr>\n",
       "      <th>3</th>\n",
       "      <td>2018-01-13 11:45:00</td>\n",
       "      <td>1</td>\n",
       "      <td>5</td>\n",
       "      <td>11</td>\n",
       "      <td>13</td>\n",
       "      <td>True</td>\n",
       "      <td>2018-01-13</td>\n",
       "    </tr>\n",
       "    <tr>\n",
       "      <th>4</th>\n",
       "      <td>2018-01-13 11:24:00</td>\n",
       "      <td>1</td>\n",
       "      <td>5</td>\n",
       "      <td>11</td>\n",
       "      <td>13</td>\n",
       "      <td>True</td>\n",
       "      <td>2018-01-13</td>\n",
       "    </tr>\n",
       "    <tr>\n",
       "      <th>...</th>\n",
       "      <td>...</td>\n",
       "      <td>...</td>\n",
       "      <td>...</td>\n",
       "      <td>...</td>\n",
       "      <td>...</td>\n",
       "      <td>...</td>\n",
       "      <td>...</td>\n",
       "    </tr>\n",
       "    <tr>\n",
       "      <th>180514</th>\n",
       "      <td>2016-01-16 03:40:00</td>\n",
       "      <td>1</td>\n",
       "      <td>5</td>\n",
       "      <td>3</td>\n",
       "      <td>16</td>\n",
       "      <td>True</td>\n",
       "      <td>2016-01-16</td>\n",
       "    </tr>\n",
       "    <tr>\n",
       "      <th>180515</th>\n",
       "      <td>2016-01-16 01:34:00</td>\n",
       "      <td>1</td>\n",
       "      <td>5</td>\n",
       "      <td>1</td>\n",
       "      <td>16</td>\n",
       "      <td>True</td>\n",
       "      <td>2016-01-16</td>\n",
       "    </tr>\n",
       "    <tr>\n",
       "      <th>180516</th>\n",
       "      <td>2016-01-15 21:00:00</td>\n",
       "      <td>1</td>\n",
       "      <td>4</td>\n",
       "      <td>21</td>\n",
       "      <td>15</td>\n",
       "      <td>False</td>\n",
       "      <td>2016-01-15</td>\n",
       "    </tr>\n",
       "    <tr>\n",
       "      <th>180517</th>\n",
       "      <td>2016-01-15 20:18:00</td>\n",
       "      <td>1</td>\n",
       "      <td>4</td>\n",
       "      <td>20</td>\n",
       "      <td>15</td>\n",
       "      <td>False</td>\n",
       "      <td>2016-01-15</td>\n",
       "    </tr>\n",
       "    <tr>\n",
       "      <th>180518</th>\n",
       "      <td>2016-01-15 18:54:00</td>\n",
       "      <td>1</td>\n",
       "      <td>4</td>\n",
       "      <td>18</td>\n",
       "      <td>15</td>\n",
       "      <td>False</td>\n",
       "      <td>2016-01-15</td>\n",
       "    </tr>\n",
       "  </tbody>\n",
       "</table>\n",
       "<p>180516 rows × 7 columns</p>\n",
       "</div>"
      ],
      "text/plain": [
       "       order date (DateOrders)  order month  order weekday  order hour  \\\n",
       "0          2018-01-31 22:56:00            1              2          22   \n",
       "1          2018-01-13 12:27:00            1              5          12   \n",
       "2          2018-01-13 12:06:00            1              5          12   \n",
       "3          2018-01-13 11:45:00            1              5          11   \n",
       "4          2018-01-13 11:24:00            1              5          11   \n",
       "...                        ...          ...            ...         ...   \n",
       "180514     2016-01-16 03:40:00            1              5           3   \n",
       "180515     2016-01-16 01:34:00            1              5           1   \n",
       "180516     2016-01-15 21:00:00            1              4          21   \n",
       "180517     2016-01-15 20:18:00            1              4          20   \n",
       "180518     2016-01-15 18:54:00            1              4          18   \n",
       "\n",
       "        order day of year  order is weekend order date  \n",
       "0                      31             False 2018-01-31  \n",
       "1                      13              True 2018-01-13  \n",
       "2                      13              True 2018-01-13  \n",
       "3                      13              True 2018-01-13  \n",
       "4                      13              True 2018-01-13  \n",
       "...                   ...               ...        ...  \n",
       "180514                 16              True 2016-01-16  \n",
       "180515                 16              True 2016-01-16  \n",
       "180516                 15             False 2016-01-15  \n",
       "180517                 15             False 2016-01-15  \n",
       "180518                 15             False 2016-01-15  \n",
       "\n",
       "[180516 rows x 7 columns]"
      ]
     },
     "execution_count": 210,
     "metadata": {},
     "output_type": "execute_result"
    }
   ],
   "source": [
    "# Add variables for monrh, weekday and hour of day\n",
    "df[\"order date (DateOrders)\"] = pd.to_datetime(df[\"order date (DateOrders)\"])\n",
    "df[\"order month\"] = df[\"order date (DateOrders)\"].dt.month\n",
    "df[\"order weekday\"] = df[\"order date (DateOrders)\"].dt.weekday\n",
    "df[\"order hour\"] = df[\"order date (DateOrders)\"].dt.hour\n",
    "df[\"order day of year\"] = df[\"order date (DateOrders)\"].dt.day_of_year\n",
    "df[\"order is weekend\"] = df[\"order weekday\"] > 4\n",
    "df[\"order date\"] = pd.to_datetime(df[\"order date (DateOrders)\"].dt.date)\n",
    "\n",
    "df[[\"order date (DateOrders)\", \"order month\", \"order weekday\", \"order hour\", \"order day of year\", \"order is weekend\", \"order date\"]]"
   ]
  },
  {
   "cell_type": "code",
   "execution_count": 104,
   "metadata": {},
   "outputs": [
    {
     "data": {
      "text/html": [
       "<div>\n",
       "<style scoped>\n",
       "    .dataframe tbody tr th:only-of-type {\n",
       "        vertical-align: middle;\n",
       "    }\n",
       "\n",
       "    .dataframe tbody tr th {\n",
       "        vertical-align: top;\n",
       "    }\n",
       "\n",
       "    .dataframe thead th {\n",
       "        text-align: right;\n",
       "    }\n",
       "</style>\n",
       "<table border=\"1\" class=\"dataframe\">\n",
       "  <thead>\n",
       "    <tr style=\"text-align: right;\">\n",
       "      <th></th>\n",
       "      <th>Order Id</th>\n",
       "      <th>Customer Id</th>\n",
       "      <th>Product Name</th>\n",
       "      <th>Order Item Quantity</th>\n",
       "      <th>total order qty</th>\n",
       "    </tr>\n",
       "  </thead>\n",
       "  <tbody>\n",
       "    <tr>\n",
       "      <th>20305</th>\n",
       "      <td>5</td>\n",
       "      <td>11318</td>\n",
       "      <td>Nike Men's CJ Elite 2 TD Football Cleat</td>\n",
       "      <td>1</td>\n",
       "      <td>10</td>\n",
       "    </tr>\n",
       "    <tr>\n",
       "      <th>20680</th>\n",
       "      <td>5</td>\n",
       "      <td>11318</td>\n",
       "      <td>Diamondback Women's Serene Classic Comfort Bi</td>\n",
       "      <td>1</td>\n",
       "      <td>10</td>\n",
       "    </tr>\n",
       "    <tr>\n",
       "      <th>20695</th>\n",
       "      <td>5</td>\n",
       "      <td>11318</td>\n",
       "      <td>Diamondback Women's Serene Classic Comfort Bi</td>\n",
       "      <td>1</td>\n",
       "      <td>10</td>\n",
       "    </tr>\n",
       "    <tr>\n",
       "      <th>58046</th>\n",
       "      <td>5</td>\n",
       "      <td>11318</td>\n",
       "      <td>Perfect Fitness Perfect Rip Deck</td>\n",
       "      <td>5</td>\n",
       "      <td>10</td>\n",
       "    </tr>\n",
       "    <tr>\n",
       "      <th>63764</th>\n",
       "      <td>4</td>\n",
       "      <td>8827</td>\n",
       "      <td>Team Golf New England Patriots Putter Grip</td>\n",
       "      <td>2</td>\n",
       "      <td>14</td>\n",
       "    </tr>\n",
       "    <tr>\n",
       "      <th>95938</th>\n",
       "      <td>4</td>\n",
       "      <td>8827</td>\n",
       "      <td>Nike Men's Dri-FIT Victory Golf Polo</td>\n",
       "      <td>3</td>\n",
       "      <td>14</td>\n",
       "    </tr>\n",
       "    <tr>\n",
       "      <th>96131</th>\n",
       "      <td>4</td>\n",
       "      <td>8827</td>\n",
       "      <td>Perfect Fitness Perfect Rip Deck</td>\n",
       "      <td>5</td>\n",
       "      <td>14</td>\n",
       "    </tr>\n",
       "    <tr>\n",
       "      <th>114914</th>\n",
       "      <td>5</td>\n",
       "      <td>11318</td>\n",
       "      <td>O'Brien Men's Neoprene Life Vest</td>\n",
       "      <td>2</td>\n",
       "      <td>10</td>\n",
       "    </tr>\n",
       "    <tr>\n",
       "      <th>114915</th>\n",
       "      <td>4</td>\n",
       "      <td>8827</td>\n",
       "      <td>O'Brien Men's Neoprene Life Vest</td>\n",
       "      <td>4</td>\n",
       "      <td>14</td>\n",
       "    </tr>\n",
       "  </tbody>\n",
       "</table>\n",
       "</div>"
      ],
      "text/plain": [
       "        Order Id  Customer Id                                   Product Name  \\\n",
       "20305          5        11318        Nike Men's CJ Elite 2 TD Football Cleat   \n",
       "20680          5        11318  Diamondback Women's Serene Classic Comfort Bi   \n",
       "20695          5        11318  Diamondback Women's Serene Classic Comfort Bi   \n",
       "58046          5        11318               Perfect Fitness Perfect Rip Deck   \n",
       "63764          4         8827     Team Golf New England Patriots Putter Grip   \n",
       "95938          4         8827           Nike Men's Dri-FIT Victory Golf Polo   \n",
       "96131          4         8827               Perfect Fitness Perfect Rip Deck   \n",
       "114914         5        11318               O'Brien Men's Neoprene Life Vest   \n",
       "114915         4         8827               O'Brien Men's Neoprene Life Vest   \n",
       "\n",
       "        Order Item Quantity  total order qty  \n",
       "20305                     1               10  \n",
       "20680                     1               10  \n",
       "20695                     1               10  \n",
       "58046                     5               10  \n",
       "63764                     2               14  \n",
       "95938                     3               14  \n",
       "96131                     5               14  \n",
       "114914                    2               10  \n",
       "114915                    4               14  "
      ]
     },
     "execution_count": 104,
     "metadata": {},
     "output_type": "execute_result"
    }
   ],
   "source": [
    "item_per_order_count = df.groupby(\"Order Id\")[\"Order Item Quantity\"].sum()\n",
    "def get_order_item_cnt(order_id):\n",
    "    return item_per_order_count[order_id]\n",
    "\n",
    "df[\"total order qty\"] = df[\"Order Id\"].map(get_order_item_cnt)\n",
    "df[df[\"Order Id\"].isin([4,5])][[\"Order Id\", \"Customer Id\", \"Product Name\", \"Order Item Quantity\", \"total order qty\"]]"
   ]
  },
  {
   "cell_type": "code",
   "execution_count": 222,
   "metadata": {},
   "outputs": [
    {
     "data": {
      "text/html": [
       "<div>\n",
       "<style scoped>\n",
       "    .dataframe tbody tr th:only-of-type {\n",
       "        vertical-align: middle;\n",
       "    }\n",
       "\n",
       "    .dataframe tbody tr th {\n",
       "        vertical-align: top;\n",
       "    }\n",
       "\n",
       "    .dataframe thead th {\n",
       "        text-align: right;\n",
       "    }\n",
       "</style>\n",
       "<table border=\"1\" class=\"dataframe\">\n",
       "  <thead>\n",
       "    <tr style=\"text-align: right;\">\n",
       "      <th></th>\n",
       "      <th>Order Id</th>\n",
       "      <th>Customer Id</th>\n",
       "      <th>Product Name</th>\n",
       "      <th>Order Item Quantity</th>\n",
       "      <th>total order qty</th>\n",
       "      <th>total order sales</th>\n",
       "    </tr>\n",
       "  </thead>\n",
       "  <tbody>\n",
       "    <tr>\n",
       "      <th>20305</th>\n",
       "      <td>5</td>\n",
       "      <td>11318</td>\n",
       "      <td>Nike Men's CJ Elite 2 TD Football Cleat</td>\n",
       "      <td>1</td>\n",
       "      <td>10</td>\n",
       "      <td>1129.860039</td>\n",
       "    </tr>\n",
       "    <tr>\n",
       "      <th>20680</th>\n",
       "      <td>5</td>\n",
       "      <td>11318</td>\n",
       "      <td>Diamondback Women's Serene Classic Comfort Bi</td>\n",
       "      <td>1</td>\n",
       "      <td>10</td>\n",
       "      <td>1129.860039</td>\n",
       "    </tr>\n",
       "    <tr>\n",
       "      <th>20695</th>\n",
       "      <td>5</td>\n",
       "      <td>11318</td>\n",
       "      <td>Diamondback Women's Serene Classic Comfort Bi</td>\n",
       "      <td>1</td>\n",
       "      <td>10</td>\n",
       "      <td>1129.860039</td>\n",
       "    </tr>\n",
       "    <tr>\n",
       "      <th>58046</th>\n",
       "      <td>5</td>\n",
       "      <td>11318</td>\n",
       "      <td>Perfect Fitness Perfect Rip Deck</td>\n",
       "      <td>5</td>\n",
       "      <td>10</td>\n",
       "      <td>1129.860039</td>\n",
       "    </tr>\n",
       "    <tr>\n",
       "      <th>64753</th>\n",
       "      <td>7</td>\n",
       "      <td>4530</td>\n",
       "      <td>Diamondback Women's Serene Classic Comfort Bi</td>\n",
       "      <td>1</td>\n",
       "      <td>7</td>\n",
       "      <td>579.920013</td>\n",
       "    </tr>\n",
       "    <tr>\n",
       "      <th>77010</th>\n",
       "      <td>7</td>\n",
       "      <td>4530</td>\n",
       "      <td>Pelican Sunstream 100 Kayak</td>\n",
       "      <td>1</td>\n",
       "      <td>7</td>\n",
       "      <td>579.920013</td>\n",
       "    </tr>\n",
       "    <tr>\n",
       "      <th>81543</th>\n",
       "      <td>7</td>\n",
       "      <td>4530</td>\n",
       "      <td>Glove It Imperial Golf Towel</td>\n",
       "      <td>5</td>\n",
       "      <td>7</td>\n",
       "      <td>579.920013</td>\n",
       "    </tr>\n",
       "    <tr>\n",
       "      <th>114914</th>\n",
       "      <td>5</td>\n",
       "      <td>11318</td>\n",
       "      <td>O'Brien Men's Neoprene Life Vest</td>\n",
       "      <td>2</td>\n",
       "      <td>10</td>\n",
       "      <td>1129.860039</td>\n",
       "    </tr>\n",
       "  </tbody>\n",
       "</table>\n",
       "</div>"
      ],
      "text/plain": [
       "        Order Id  Customer Id                                   Product Name  \\\n",
       "20305          5        11318        Nike Men's CJ Elite 2 TD Football Cleat   \n",
       "20680          5        11318  Diamondback Women's Serene Classic Comfort Bi   \n",
       "20695          5        11318  Diamondback Women's Serene Classic Comfort Bi   \n",
       "58046          5        11318               Perfect Fitness Perfect Rip Deck   \n",
       "64753          7         4530  Diamondback Women's Serene Classic Comfort Bi   \n",
       "77010          7         4530                    Pelican Sunstream 100 Kayak   \n",
       "81543          7         4530                   Glove It Imperial Golf Towel   \n",
       "114914         5        11318               O'Brien Men's Neoprene Life Vest   \n",
       "\n",
       "        Order Item Quantity  total order qty  total order sales  \n",
       "20305                     1               10        1129.860039  \n",
       "20680                     1               10        1129.860039  \n",
       "20695                     1               10        1129.860039  \n",
       "58046                     5               10        1129.860039  \n",
       "64753                     1                7         579.920013  \n",
       "77010                     1                7         579.920013  \n",
       "81543                     5                7         579.920013  \n",
       "114914                    2               10        1129.860039  "
      ]
     },
     "execution_count": 222,
     "metadata": {},
     "output_type": "execute_result"
    }
   ],
   "source": [
    "total_sales_per_order = df.groupby(\"Order Id\")[\"Sales\"].sum()\n",
    "def get_order_sales(order_id):\n",
    "    return total_sales_per_order[order_id]\n",
    "\n",
    "df[\"total order sales\"] = df[\"Order Id\"].map(get_order_sales)\n",
    "df[df[\"Order Id\"].isin([5,7])][[\"Order Id\", \"Customer Id\", \"Product Name\", \"Order Item Quantity\", \"total order qty\", \"total order sales\"]]"
   ]
  },
  {
   "cell_type": "code",
   "execution_count": 150,
   "metadata": {},
   "outputs": [],
   "source": [
    "def get_previous_num_orders(order_date, customer_id):\n",
    "    tmp = df[ df[\"order date (DateOrders)\"] < order_date]\n",
    "    tmp = tmp[ tmp[\"Customer Id\"] == customer_id][\"Order Id\"].drop_duplicates()\n",
    "    return len(tmp)\n",
    "\n",
    "df[\"prev orders\"] = df.apply(lambda row: get_previous_num_orders(row[\"order date (DateOrders)\"], row[\"Customer Id\"]), axis=1)"
   ]
  },
  {
   "cell_type": "code",
   "execution_count": 151,
   "metadata": {},
   "outputs": [
    {
     "data": {
      "text/html": [
       "<div>\n",
       "<style scoped>\n",
       "    .dataframe tbody tr th:only-of-type {\n",
       "        vertical-align: middle;\n",
       "    }\n",
       "\n",
       "    .dataframe tbody tr th {\n",
       "        vertical-align: top;\n",
       "    }\n",
       "\n",
       "    .dataframe thead th {\n",
       "        text-align: right;\n",
       "    }\n",
       "</style>\n",
       "<table border=\"1\" class=\"dataframe\">\n",
       "  <thead>\n",
       "    <tr style=\"text-align: right;\">\n",
       "      <th></th>\n",
       "      <th>order date (DateOrders)</th>\n",
       "      <th>Customer Id</th>\n",
       "      <th>Order Id</th>\n",
       "      <th>prev orders</th>\n",
       "    </tr>\n",
       "  </thead>\n",
       "  <tbody>\n",
       "    <tr>\n",
       "      <th>6717</th>\n",
       "      <td>2016-10-31 00:38:00</td>\n",
       "      <td>5</td>\n",
       "      <td>45832</td>\n",
       "      <td>2</td>\n",
       "    </tr>\n",
       "    <tr>\n",
       "      <th>11509</th>\n",
       "      <td>2016-06-16 09:24:00</td>\n",
       "      <td>5</td>\n",
       "      <td>36472</td>\n",
       "      <td>0</td>\n",
       "    </tr>\n",
       "    <tr>\n",
       "      <th>11510</th>\n",
       "      <td>2016-06-16 09:24:00</td>\n",
       "      <td>5</td>\n",
       "      <td>36472</td>\n",
       "      <td>0</td>\n",
       "    </tr>\n",
       "    <tr>\n",
       "      <th>11738</th>\n",
       "      <td>2016-06-16 09:24:00</td>\n",
       "      <td>5</td>\n",
       "      <td>36472</td>\n",
       "      <td>0</td>\n",
       "    </tr>\n",
       "    <tr>\n",
       "      <th>100469</th>\n",
       "      <td>2016-06-16 09:24:00</td>\n",
       "      <td>5</td>\n",
       "      <td>36472</td>\n",
       "      <td>0</td>\n",
       "    </tr>\n",
       "    <tr>\n",
       "      <th>100470</th>\n",
       "      <td>2016-06-16 09:24:00</td>\n",
       "      <td>5</td>\n",
       "      <td>36472</td>\n",
       "      <td>0</td>\n",
       "    </tr>\n",
       "    <tr>\n",
       "      <th>148349</th>\n",
       "      <td>2016-08-26 08:26:00</td>\n",
       "      <td>5</td>\n",
       "      <td>41333</td>\n",
       "      <td>1</td>\n",
       "    </tr>\n",
       "  </tbody>\n",
       "</table>\n",
       "</div>"
      ],
      "text/plain": [
       "       order date (DateOrders)  Customer Id  Order Id  prev orders\n",
       "6717       2016-10-31 00:38:00            5     45832            2\n",
       "11509      2016-06-16 09:24:00            5     36472            0\n",
       "11510      2016-06-16 09:24:00            5     36472            0\n",
       "11738      2016-06-16 09:24:00            5     36472            0\n",
       "100469     2016-06-16 09:24:00            5     36472            0\n",
       "100470     2016-06-16 09:24:00            5     36472            0\n",
       "148349     2016-08-26 08:26:00            5     41333            1"
      ]
     },
     "execution_count": 151,
     "metadata": {},
     "output_type": "execute_result"
    }
   ],
   "source": [
    "df[df[\"Customer Id\"] == 5][[\"order date (DateOrders)\", \"Customer Id\", \"Order Id\", \"prev orders\"]]"
   ]
  },
  {
   "cell_type": "code",
   "execution_count": 152,
   "metadata": {},
   "outputs": [],
   "source": [
    "# remove columns\n",
    "df.drop(columns=[\"shipping date (DateOrders)\", \"Late_delivery_risk\"], inplace=True)"
   ]
  },
  {
   "cell_type": "code",
   "execution_count": 202,
   "metadata": {},
   "outputs": [
    {
     "data": {
      "text/plain": [
       "1        68\n",
       "2        68\n",
       "3        68\n",
       "4        68\n",
       "5        68\n",
       "         ..\n",
       "52418    68\n",
       "52419    68\n",
       "52420    68\n",
       "52421    68\n",
       "52422    68\n",
       "Name: total orders in day, Length: 68, dtype: int64"
      ]
     },
     "execution_count": 202,
     "metadata": {},
     "output_type": "execute_result"
    }
   ],
   "source": [
    "def get_orders_for_the_day(order_date):\n",
    "    return len(df[df[\"order date\"] == order_date])\n",
    "\n",
    "df[\"total orders in day\"] = df[\"order date\"].map(get_orders_for_the_day)\n",
    "\n",
    "df[ df[\"order date\"] == \"2018-01-13\"][\"total orders in day\"]"
   ]
  },
  {
   "cell_type": "code",
   "execution_count": 224,
   "metadata": {},
   "outputs": [
    {
     "data": {
      "text/html": [
       "<div>\n",
       "<style scoped>\n",
       "    .dataframe tbody tr th:only-of-type {\n",
       "        vertical-align: middle;\n",
       "    }\n",
       "\n",
       "    .dataframe tbody tr th {\n",
       "        vertical-align: top;\n",
       "    }\n",
       "\n",
       "    .dataframe thead th {\n",
       "        text-align: right;\n",
       "    }\n",
       "</style>\n",
       "<table border=\"1\" class=\"dataframe\">\n",
       "  <thead>\n",
       "    <tr style=\"text-align: right;\">\n",
       "      <th></th>\n",
       "      <th>Type</th>\n",
       "      <th>Days for shipping (real)</th>\n",
       "      <th>Days for shipment (scheduled)</th>\n",
       "      <th>Delivery Status</th>\n",
       "      <th>Category Name</th>\n",
       "      <th>Customer City</th>\n",
       "      <th>Customer Country</th>\n",
       "      <th>Customer Id</th>\n",
       "      <th>Customer Segment</th>\n",
       "      <th>Customer State</th>\n",
       "      <th>...</th>\n",
       "      <th>order month</th>\n",
       "      <th>order weekday</th>\n",
       "      <th>order hour</th>\n",
       "      <th>total order qty</th>\n",
       "      <th>prev orders</th>\n",
       "      <th>order date</th>\n",
       "      <th>total orders in day</th>\n",
       "      <th>order day of year</th>\n",
       "      <th>order is weekend</th>\n",
       "      <th>total order sales</th>\n",
       "    </tr>\n",
       "  </thead>\n",
       "  <tbody>\n",
       "    <tr>\n",
       "      <th>0</th>\n",
       "      <td>DEBIT</td>\n",
       "      <td>3</td>\n",
       "      <td>4</td>\n",
       "      <td>Advance shipping</td>\n",
       "      <td>Sporting Goods</td>\n",
       "      <td>Caguas</td>\n",
       "      <td>Puerto Rico</td>\n",
       "      <td>20755</td>\n",
       "      <td>Consumer</td>\n",
       "      <td>PR</td>\n",
       "      <td>...</td>\n",
       "      <td>1</td>\n",
       "      <td>2</td>\n",
       "      <td>22</td>\n",
       "      <td>1</td>\n",
       "      <td>0</td>\n",
       "      <td>2018-01-31</td>\n",
       "      <td>68</td>\n",
       "      <td>31</td>\n",
       "      <td>False</td>\n",
       "      <td>327.750000</td>\n",
       "    </tr>\n",
       "    <tr>\n",
       "      <th>2189</th>\n",
       "      <td>DEBIT</td>\n",
       "      <td>5</td>\n",
       "      <td>4</td>\n",
       "      <td>Late delivery</td>\n",
       "      <td>Women's Clothing</td>\n",
       "      <td>Morristown</td>\n",
       "      <td>EE. UU.</td>\n",
       "      <td>20722</td>\n",
       "      <td>Corporate</td>\n",
       "      <td>NJ</td>\n",
       "      <td>...</td>\n",
       "      <td>1</td>\n",
       "      <td>2</td>\n",
       "      <td>11</td>\n",
       "      <td>1</td>\n",
       "      <td>0</td>\n",
       "      <td>2018-01-31</td>\n",
       "      <td>68</td>\n",
       "      <td>31</td>\n",
       "      <td>False</td>\n",
       "      <td>215.820007</td>\n",
       "    </tr>\n",
       "    <tr>\n",
       "      <th>2253</th>\n",
       "      <td>DEBIT</td>\n",
       "      <td>2</td>\n",
       "      <td>4</td>\n",
       "      <td>Advance shipping</td>\n",
       "      <td>Women's Clothing</td>\n",
       "      <td>Brooklyn</td>\n",
       "      <td>EE. UU.</td>\n",
       "      <td>20699</td>\n",
       "      <td>Corporate</td>\n",
       "      <td>NY</td>\n",
       "      <td>...</td>\n",
       "      <td>1</td>\n",
       "      <td>2</td>\n",
       "      <td>3</td>\n",
       "      <td>1</td>\n",
       "      <td>0</td>\n",
       "      <td>2018-01-31</td>\n",
       "      <td>68</td>\n",
       "      <td>31</td>\n",
       "      <td>False</td>\n",
       "      <td>215.820007</td>\n",
       "    </tr>\n",
       "    <tr>\n",
       "      <th>3560</th>\n",
       "      <td>DEBIT</td>\n",
       "      <td>4</td>\n",
       "      <td>2</td>\n",
       "      <td>Late delivery</td>\n",
       "      <td>Women's Clothing</td>\n",
       "      <td>Caguas</td>\n",
       "      <td>Puerto Rico</td>\n",
       "      <td>20706</td>\n",
       "      <td>Consumer</td>\n",
       "      <td>PR</td>\n",
       "      <td>...</td>\n",
       "      <td>1</td>\n",
       "      <td>2</td>\n",
       "      <td>5</td>\n",
       "      <td>1</td>\n",
       "      <td>0</td>\n",
       "      <td>2018-01-31</td>\n",
       "      <td>68</td>\n",
       "      <td>31</td>\n",
       "      <td>False</td>\n",
       "      <td>215.820007</td>\n",
       "    </tr>\n",
       "    <tr>\n",
       "      <th>3578</th>\n",
       "      <td>DEBIT</td>\n",
       "      <td>2</td>\n",
       "      <td>2</td>\n",
       "      <td>Shipping on time</td>\n",
       "      <td>Women's Clothing</td>\n",
       "      <td>Caguas</td>\n",
       "      <td>Puerto Rico</td>\n",
       "      <td>20719</td>\n",
       "      <td>Consumer</td>\n",
       "      <td>PR</td>\n",
       "      <td>...</td>\n",
       "      <td>1</td>\n",
       "      <td>2</td>\n",
       "      <td>10</td>\n",
       "      <td>1</td>\n",
       "      <td>0</td>\n",
       "      <td>2018-01-31</td>\n",
       "      <td>68</td>\n",
       "      <td>31</td>\n",
       "      <td>False</td>\n",
       "      <td>215.820007</td>\n",
       "    </tr>\n",
       "    <tr>\n",
       "      <th>...</th>\n",
       "      <td>...</td>\n",
       "      <td>...</td>\n",
       "      <td>...</td>\n",
       "      <td>...</td>\n",
       "      <td>...</td>\n",
       "      <td>...</td>\n",
       "      <td>...</td>\n",
       "      <td>...</td>\n",
       "      <td>...</td>\n",
       "      <td>...</td>\n",
       "      <td>...</td>\n",
       "      <td>...</td>\n",
       "      <td>...</td>\n",
       "      <td>...</td>\n",
       "      <td>...</td>\n",
       "      <td>...</td>\n",
       "      <td>...</td>\n",
       "      <td>...</td>\n",
       "      <td>...</td>\n",
       "      <td>...</td>\n",
       "      <td>...</td>\n",
       "    </tr>\n",
       "    <tr>\n",
       "      <th>163222</th>\n",
       "      <td>DEBIT</td>\n",
       "      <td>2</td>\n",
       "      <td>4</td>\n",
       "      <td>Advance shipping</td>\n",
       "      <td>Women's Clothing</td>\n",
       "      <td>Waukegan</td>\n",
       "      <td>EE. UU.</td>\n",
       "      <td>20724</td>\n",
       "      <td>Home Office</td>\n",
       "      <td>IL</td>\n",
       "      <td>...</td>\n",
       "      <td>1</td>\n",
       "      <td>2</td>\n",
       "      <td>12</td>\n",
       "      <td>1</td>\n",
       "      <td>0</td>\n",
       "      <td>2018-01-31</td>\n",
       "      <td>68</td>\n",
       "      <td>31</td>\n",
       "      <td>False</td>\n",
       "      <td>215.820007</td>\n",
       "    </tr>\n",
       "    <tr>\n",
       "      <th>168609</th>\n",
       "      <td>TRANSFER</td>\n",
       "      <td>2</td>\n",
       "      <td>1</td>\n",
       "      <td>Late delivery</td>\n",
       "      <td>Women's Clothing</td>\n",
       "      <td>Bronx</td>\n",
       "      <td>EE. UU.</td>\n",
       "      <td>20748</td>\n",
       "      <td>Home Office</td>\n",
       "      <td>NY</td>\n",
       "      <td>...</td>\n",
       "      <td>1</td>\n",
       "      <td>2</td>\n",
       "      <td>20</td>\n",
       "      <td>1</td>\n",
       "      <td>0</td>\n",
       "      <td>2018-01-31</td>\n",
       "      <td>68</td>\n",
       "      <td>31</td>\n",
       "      <td>False</td>\n",
       "      <td>215.820007</td>\n",
       "    </tr>\n",
       "    <tr>\n",
       "      <th>169492</th>\n",
       "      <td>TRANSFER</td>\n",
       "      <td>3</td>\n",
       "      <td>2</td>\n",
       "      <td>Late delivery</td>\n",
       "      <td>Women's Clothing</td>\n",
       "      <td>Phoenix</td>\n",
       "      <td>EE. UU.</td>\n",
       "      <td>20735</td>\n",
       "      <td>Home Office</td>\n",
       "      <td>AZ</td>\n",
       "      <td>...</td>\n",
       "      <td>1</td>\n",
       "      <td>2</td>\n",
       "      <td>15</td>\n",
       "      <td>1</td>\n",
       "      <td>0</td>\n",
       "      <td>2018-01-31</td>\n",
       "      <td>68</td>\n",
       "      <td>31</td>\n",
       "      <td>False</td>\n",
       "      <td>215.820007</td>\n",
       "    </tr>\n",
       "    <tr>\n",
       "      <th>170980</th>\n",
       "      <td>TRANSFER</td>\n",
       "      <td>3</td>\n",
       "      <td>4</td>\n",
       "      <td>Shipping canceled</td>\n",
       "      <td>Women's Clothing</td>\n",
       "      <td>Hialeah</td>\n",
       "      <td>EE. UU.</td>\n",
       "      <td>20730</td>\n",
       "      <td>Home Office</td>\n",
       "      <td>FL</td>\n",
       "      <td>...</td>\n",
       "      <td>1</td>\n",
       "      <td>2</td>\n",
       "      <td>14</td>\n",
       "      <td>1</td>\n",
       "      <td>0</td>\n",
       "      <td>2018-01-31</td>\n",
       "      <td>68</td>\n",
       "      <td>31</td>\n",
       "      <td>False</td>\n",
       "      <td>215.820007</td>\n",
       "    </tr>\n",
       "    <tr>\n",
       "      <th>173972</th>\n",
       "      <td>CASH</td>\n",
       "      <td>6</td>\n",
       "      <td>4</td>\n",
       "      <td>Late delivery</td>\n",
       "      <td>Women's Clothing</td>\n",
       "      <td>Caguas</td>\n",
       "      <td>Puerto Rico</td>\n",
       "      <td>20713</td>\n",
       "      <td>Consumer</td>\n",
       "      <td>PR</td>\n",
       "      <td>...</td>\n",
       "      <td>1</td>\n",
       "      <td>2</td>\n",
       "      <td>8</td>\n",
       "      <td>1</td>\n",
       "      <td>0</td>\n",
       "      <td>2018-01-31</td>\n",
       "      <td>68</td>\n",
       "      <td>31</td>\n",
       "      <td>False</td>\n",
       "      <td>215.820007</td>\n",
       "    </tr>\n",
       "  </tbody>\n",
       "</table>\n",
       "<p>68 rows × 45 columns</p>\n",
       "</div>"
      ],
      "text/plain": [
       "            Type  Days for shipping (real)  Days for shipment (scheduled)  \\\n",
       "0          DEBIT                         3                              4   \n",
       "2189       DEBIT                         5                              4   \n",
       "2253       DEBIT                         2                              4   \n",
       "3560       DEBIT                         4                              2   \n",
       "3578       DEBIT                         2                              2   \n",
       "...          ...                       ...                            ...   \n",
       "163222     DEBIT                         2                              4   \n",
       "168609  TRANSFER                         2                              1   \n",
       "169492  TRANSFER                         3                              2   \n",
       "170980  TRANSFER                         3                              4   \n",
       "173972      CASH                         6                              4   \n",
       "\n",
       "          Delivery Status     Category Name Customer City Customer Country  \\\n",
       "0        Advance shipping    Sporting Goods        Caguas      Puerto Rico   \n",
       "2189        Late delivery  Women's Clothing    Morristown          EE. UU.   \n",
       "2253     Advance shipping  Women's Clothing      Brooklyn          EE. UU.   \n",
       "3560        Late delivery  Women's Clothing        Caguas      Puerto Rico   \n",
       "3578     Shipping on time  Women's Clothing        Caguas      Puerto Rico   \n",
       "...                   ...               ...           ...              ...   \n",
       "163222   Advance shipping  Women's Clothing      Waukegan          EE. UU.   \n",
       "168609      Late delivery  Women's Clothing         Bronx          EE. UU.   \n",
       "169492      Late delivery  Women's Clothing       Phoenix          EE. UU.   \n",
       "170980  Shipping canceled  Women's Clothing       Hialeah          EE. UU.   \n",
       "173972      Late delivery  Women's Clothing        Caguas      Puerto Rico   \n",
       "\n",
       "        Customer Id Customer Segment Customer State  ... order month  \\\n",
       "0             20755         Consumer             PR  ...           1   \n",
       "2189          20722        Corporate             NJ  ...           1   \n",
       "2253          20699        Corporate             NY  ...           1   \n",
       "3560          20706         Consumer             PR  ...           1   \n",
       "3578          20719         Consumer             PR  ...           1   \n",
       "...             ...              ...            ...  ...         ...   \n",
       "163222        20724      Home Office             IL  ...           1   \n",
       "168609        20748      Home Office             NY  ...           1   \n",
       "169492        20735      Home Office             AZ  ...           1   \n",
       "170980        20730      Home Office             FL  ...           1   \n",
       "173972        20713         Consumer             PR  ...           1   \n",
       "\n",
       "        order weekday order hour  total order qty  prev orders order date  \\\n",
       "0                   2         22                1            0 2018-01-31   \n",
       "2189                2         11                1            0 2018-01-31   \n",
       "2253                2          3                1            0 2018-01-31   \n",
       "3560                2          5                1            0 2018-01-31   \n",
       "3578                2         10                1            0 2018-01-31   \n",
       "...               ...        ...              ...          ...        ...   \n",
       "163222              2         12                1            0 2018-01-31   \n",
       "168609              2         20                1            0 2018-01-31   \n",
       "169492              2         15                1            0 2018-01-31   \n",
       "170980              2         14                1            0 2018-01-31   \n",
       "173972              2          8                1            0 2018-01-31   \n",
       "\n",
       "       total orders in day order day of year order is weekend  \\\n",
       "0                       68                31            False   \n",
       "2189                    68                31            False   \n",
       "2253                    68                31            False   \n",
       "3560                    68                31            False   \n",
       "3578                    68                31            False   \n",
       "...                    ...               ...              ...   \n",
       "163222                  68                31            False   \n",
       "168609                  68                31            False   \n",
       "169492                  68                31            False   \n",
       "170980                  68                31            False   \n",
       "173972                  68                31            False   \n",
       "\n",
       "        total order sales  \n",
       "0              327.750000  \n",
       "2189           215.820007  \n",
       "2253           215.820007  \n",
       "3560           215.820007  \n",
       "3578           215.820007  \n",
       "...                   ...  \n",
       "163222         215.820007  \n",
       "168609         215.820007  \n",
       "169492         215.820007  \n",
       "170980         215.820007  \n",
       "173972         215.820007  \n",
       "\n",
       "[68 rows x 45 columns]"
      ]
     },
     "execution_count": 224,
     "metadata": {},
     "output_type": "execute_result"
    }
   ],
   "source": [
    "df[ df[\"order date\"] == \"2018-01-31\"]"
   ]
  },
  {
   "cell_type": "code",
   "execution_count": 223,
   "metadata": {},
   "outputs": [],
   "source": [
    "df.to_csv(\"DataCoSupplyChain_cleanData.csv\")"
   ]
  },
  {
   "cell_type": "markdown",
   "metadata": {},
   "source": [
    "### Neural network"
   ]
  },
  {
   "cell_type": "markdown",
   "metadata": {},
   "source": [
    "Need to remove additional info\n",
    "\n",
    "*Columns useful for calculations but no for the model*\n",
    "- Customer Id\n",
    "- Department Id/Department Name (maybe drop Department Name, just make sure to take this as categorical) \n",
    "- Order Id\n",
    "- Product Card Id/Product Name (maybe drop Product Name, just make sure to take this as categorical)\n",
    "- Product Category Id/Category Name (maybe drop Category Name, same thing as above)\n",
    "- all the other dates\n"
   ]
  },
  {
   "cell_type": "markdown",
   "metadata": {},
   "source": [
    "*Defining predictors, and removing columns that have that information*\n",
    "For the predictor we can have:\n",
    "- Delivery Status, for this we can select to predict the three different cases, or do a binary with\n",
    "- New column with calculation of = Days for shipping (real) - Days for shipment (scheduled), predict that number, or a 1 or 0\n",
    "- Predict the column Days for shipping (real)"
   ]
  },
  {
   "cell_type": "code",
   "execution_count": 155,
   "metadata": {},
   "outputs": [],
   "source": [
    "# Import libraries\n",
    "from sklearn.preprocessing import StandardScaler\n",
    "from sklearn.model_selection import train_test_split\n",
    "from copy import deepcopy\n",
    "from sklearn.preprocessing import StandardScaler\n",
    "from sklearn.model_selection import train_test_split\n",
    "from sklearn.metrics import mean_squared_error, r2_score, confusion_matrix, ConfusionMatrixDisplay, precision_recall_fscore_support\n",
    "from sklearn.neural_network import MLPRegressor\n",
    "from sklearn.neural_network import MLPClassifier\n",
    "from sklearn.compose import ColumnTransformer\n",
    "from sklearn.preprocessing import OneHotEncoder"
   ]
  },
  {
   "cell_type": "code",
   "execution_count": 37,
   "metadata": {},
   "outputs": [],
   "source": [
    "df_clean = pd.read_csv(\"DataCoSupplyChain_cleanData.csv\", encoding='latin-1', dtype={\"Customer Zipcode\": str}, index_col=0)\n",
    "\n",
    "## remove cols and dates from the df\n",
    "df_clean.drop(columns=[\"order date (DateOrders)\", \"order date\", \"Customer Id\", \"Department Id\", \"Order Id\", \"Product Card Id\", \"Product Category Id\"], inplace=True)"
   ]
  },
  {
   "cell_type": "markdown",
   "metadata": {},
   "source": [
    "### Multiclass Classification - Delivery Status\n",
    "\n",
    "Create a MLP classifier with 4 output for each one of the classes"
   ]
  },
  {
   "cell_type": "code",
   "execution_count": null,
   "metadata": {},
   "outputs": [],
   "source": [
    "## Different X and y combinations\n",
    "df_sample = df_clean.sample(frac=0.2)\n",
    "\n",
    "# # Using delivery Status as predictor\n",
    "X = df_sample.drop(columns=['Delivery Status', 'Days for shipping (real)', 'Order Status'])\n",
    "y = df_sample[\"Delivery Status\"]\n",
    "\n",
    "# Store column names before transformation\n",
    "all_columns = df_sample.drop(columns=['Delivery Status', 'Days for shipping (real)', 'Order Status']).columns\n",
    "\n",
    "\n",
    "# Scale and handle categorical data\n",
    "scaler = ColumnTransformer(transformers=[\n",
    "    ('onehot', OneHotEncoder(), [\n",
    "        'Type', 'Category Name', 'Customer City', 'Customer Country', 'Customer Segment', 'Customer State', 'Customer Zipcode',\n",
    "        'Department Name', 'Market', 'Order City', 'Order Country', 'Order Region', 'Order State', 'Product Name',\n",
    "        'Shipping Mode', 'order month', 'order weekday', 'order hour', 'order is weekend'\n",
    "    ]),\n",
    "    ('scale', StandardScaler(), [\n",
    "        'Days for shipment (scheduled)', 'Latitude', 'Longitude', 'Order Item Discount', 'Sales', 'Order Item Total',\n",
    "        'Order Profit Per Order', 'Product Price','total order sales', 'total orders in day', 'total order qty'\n",
    "    ])\n",
    "], remainder='passthrough')\n",
    "\n",
    "# scaler = StandardScaler()\n",
    "X = scaler.fit_transform(X)\n",
    "\n",
    "\n",
    "\n",
    "# Split train and test\n",
    "X_train, X_test, y_train, y_test = train_test_split(X, y, test_size=0.20, random_state=9, stratify=y)\n",
    "#X_val, X_test, y_val, y_test = train_test_split(X_tmp, y_tmp, test_size=0.5, random_state=9)"
   ]
  },
  {
   "cell_type": "markdown",
   "metadata": {},
   "source": [
    "Ensemble"
   ]
  },
  {
   "cell_type": "code",
   "execution_count": null,
   "metadata": {},
   "outputs": [],
   "source": [
    "from sklearn.ensemble import RandomForestClassifier, GradientBoostingClassifier, AdaBoostClassifier, BaggingClassifier\n",
    "from sklearn.model_selection import train_test_split, GridSearchCV\n",
    "from sklearn.metrics import accuracy_score\n",
    "from category_encoders import TargetEncoder\n",
    "import pandas as pd\n",
    "\n",
    "\n",
    "# Model Initialization (Ensemble methods)\n",
    "rf_model = RandomForestClassifier(random_state=42)\n",
    "ab_model = AdaBoostClassifier(random_state=42)\n",
    "\n",
    "# Define hyperparameters grid for each model\n",
    "param_grid_rf = {\n",
    "    'n_estimators': [50, 100, 200, 500, 1000],\n",
    "    'max_depth': [None, 5, 10],\n",
    "    'max_features': ['sqrt', 0.5, 0.75],\n",
    "    'max_samples': [0.5, 1.0]\n",
    "}\n",
    "\n",
    "\n",
    "param_grid_ab = {\n",
    "    'n_estimators': [50, 100, 200,500,1000],\n",
    "    'learning_rate': [1, 0.1, 0.01]\n",
    "}\n",
    "\n",
    "\n",
    "# Create GridSearchCV for each model\n",
    "grid_rf = GridSearchCV(rf_model, param_grid_rf, cv=5, scoring='accuracy')\n",
    "grid_ab = GridSearchCV(ab_model, param_grid_ab, cv=5, scoring='accuracy')\n",
    "\n",
    "# Fit the models with GridSearchCV\n",
    "grid_rf.fit(X_train, y_train)\n",
    "grid_ab.fit(X_train, y_train)\n",
    "\n",
    "# Get best scores and best parameters\n",
    "best_scores = {\n",
    "    'Random Forest': grid_rf.best_score_,\n",
    "    'AdaBoost': grid_ab.best_score_,\n",
    "}\n",
    "\n",
    "best_params = {\n",
    "    'Random Forest': grid_rf.best_params_,\n",
    "    'AdaBoost': grid_ab.best_params_,\n",
    "}\n",
    "\n",
    "# Display best scores and best parameters\n",
    "print(\"Best Scores:\")\n",
    "for model, score in best_scores.items():\n",
    "    print(f\"{model}: {score:.4f}\")\n",
    "\n",
    "print(\"\\nBest Parameters:\")\n",
    "for model, params in best_params.items():\n",
    "    print(f\"{model}: {params}\")\n"
   ]
  },
  {
   "cell_type": "code",
   "execution_count": null,
   "metadata": {},
   "outputs": [],
   "source": [
    "from sklearn.metrics import ConfusionMatrixDisplay\n",
    "\n",
    "classifiers = {\n",
    "    'Random Forest': grid_rf.best_estimator_,\n",
    "    'AdaBoost': grid_ab.best_estimator_\n",
    "}\n",
    "\n",
    "for clf_name, clf in classifiers.items():\n",
    "    y_pred = clf.predict(X_test)\n",
    "    disp = ConfusionMatrixDisplay(confusion_matrix(y_test, y_pred), display_labels=clf.classes_)\n",
    "    disp.plot(cmap=plt.cm.Blues)\n",
    "    plt.title(f'Confusion Matrix - {clf_name}')\n",
    "    plt.show()\n"
   ]
  },
  {
   "cell_type": "code",
   "execution_count": null,
   "metadata": {},
   "outputs": [],
   "source": [
    "# Get feature importances\n",
    "feature_importances = {\n",
    "    'Random Forest': grid_rf.best_estimator_.feature_importances_,\n",
    "    'AdaBoost': grid_ab.best_estimator_.feature_importances_\n",
    "}\n",
    "\n",
    "plt.figure(figsize=(12, 6))\n",
    "for clf_name, importances in feature_importances.items():\n",
    "    plt.figure()\n",
    "    sorted_indices = importances.argsort()[::-1][:10]  # Top 10 important features\n",
    "    plt.barh(range(10), importances[sorted_indices], align='center')\n",
    "    plt.yticks(range(10), X.columns[sorted_indices])\n",
    "    plt.xlabel('Feature Importance')\n",
    "    plt.title(f'Top 10 Feature Importances for {clf_name}')\n",
    "    plt.show()\n"
   ]
  },
  {
   "cell_type": "markdown",
   "metadata": {},
   "source": [
    "SVM"
   ]
  },
  {
   "cell_type": "code",
   "execution_count": null,
   "metadata": {},
   "outputs": [],
   "source": [
    "import numpy as np\n",
    "from sklearn.preprocessing import StandardScaler\n",
    "from sklearn.svm import SVC\n",
    "from sklearn.linear_model import LogisticRegression\n",
    "from sklearn.metrics import make_scorer, accuracy_score\n",
    "from sklearn.model_selection import train_test_split, cross_val_score\n",
    "\n",
    "def search_best_svm(kernel, C_search_space, random_state):\n",
    "    best_score = -np.inf\n",
    "    for C in C_search_space:\n",
    "        # Initialize an SVM classifier with the specified kernel type, C value, and random state\n",
    "        ### START CODE ###\n",
    "        svm_classifier = SVC(kernel=kernel, C=C, random_state=random_state)\n",
    "        ### END CODE ###\n",
    "\n",
    "        # Evaluate accuracy scores using 5-fold cross-validation scores\n",
    "        ### START CODE ###\n",
    "        cv_scores = cross_val_score(svm_classifier, X_train, y_train, cv=5)\n",
    "        ### END CODE ###\n",
    "\n",
    "        # Compute the average score and compare with the current best score to update the best C\n",
    "        ### START CODE ###\n",
    "        score = cv_scores.mean()\n",
    "        if score>best_score:\n",
    "            best_score = score\n",
    "            best_C = C\n",
    "        ### END CODE ###\n",
    "        print(f\"C: {C} Avg Cross Val Score: {np.round(score, 4)}\")\n",
    "\n",
    "    print(f\"Best C: {best_C}\")\n",
    "\n",
    "    # Initialize the model using the specified kernel type, best C, and random state;\n",
    "    # and then fit the model using training set\n",
    "    ### START CODE ###\n",
    "    model = SVC(kernel=kernel, C=best_C, random_state=random_state)\n",
    "    # Fit the model using the full training set\n",
    "    model.fit(X_train, y_train)\n",
    "    ### END CODE ###\n",
    "    return model, best_C"
   ]
  },
  {
   "cell_type": "code",
   "execution_count": null,
   "metadata": {},
   "outputs": [],
   "source": [
    "C_values = [0.1, 1, 10, 100]\n",
    "\n",
    "# Train SVM models with different kernels\n",
    "# linear_model, linear_best_C = search_best_svm(kernel='linear', C_search_space=C_values, random_state=42)\n",
    "poly_model, poly_best_C = search_best_svm(kernel='poly', C_search_space=C_values, random_state=42)\n",
    "rbf_model, rbf_best_C = search_best_svm(kernel='rbf', C_search_space=C_values, random_state=42)\n",
    "\n",
    "#get accuracy scores\n",
    "# linear_test_accuracy = linear_model.score(X_test, y_test)\n",
    "poly_test_accuracy = poly_model.score(X_test, y_test)\n",
    "rbf_test_accuracy = rbf_model.score(X_test, y_test)\n",
    "\n",
    "# print(f\"Linear SVM Test Accuracy: {linear_test_accuracy:.4f}\")\n",
    "print(f\"Polynomial SVM Test Accuracy: {poly_test_accuracy:.4f}\")\n",
    "print(f\"RBF SVM Test Accuracy: {rbf_test_accuracy:.4f}\")\n"
   ]
  },
  {
   "cell_type": "markdown",
   "metadata": {},
   "source": [
    "MLP"
   ]
  },
  {
   "cell_type": "code",
   "execution_count": 152,
   "metadata": {},
   "outputs": [],
   "source": [
    "## Different X and y combinations\n",
    "df_sample = df_clean.sample(frac=1.0) #We train the MLP on the entire data\n",
    "\n",
    "# # Using delivery Status as predictor\n",
    "X = df_sample.drop(columns=['Delivery Status', 'Days for shipping (real)', 'Order Status'])\n",
    "y = df_sample[\"Delivery Status\"]\n",
    "\n",
    "# Scale and handle categorical data\n",
    "scaler = ColumnTransformer(transformers=[\n",
    "    ('onehot', OneHotEncoder(), [\n",
    "        'Type', 'Category Name', 'Customer City', 'Customer Country', 'Customer Segment', 'Customer State', 'Customer Zipcode',\n",
    "        'Department Name', 'Market', 'Order City', 'Order Country', 'Order Region', 'Order State', 'Product Name',\n",
    "        'Shipping Mode', 'order month', 'order weekday', 'order hour', 'order is weekend'\n",
    "    ]),\n",
    "    ('scale', StandardScaler(), [\n",
    "        'Days for shipment (scheduled)', 'Latitude', 'Longitude', 'Order Item Discount', 'Sales', 'Order Item Total', \n",
    "        'Order Profit Per Order', 'Product Price','total order sales', 'total orders in day', 'total order qty'\n",
    "    ])\n",
    "], remainder='passthrough')\n",
    "\n",
    "# scaler = StandardScaler()\n",
    "X = scaler.fit_transform(X)\n",
    "\n",
    "# Split train and test \n",
    "X_train, X_test, y_train, y_test = train_test_split(X, y, test_size=0.20, random_state=9, stratify=y)\n",
    "#X_val, X_test, y_val, y_test = train_test_split(X_tmp, y_tmp, test_size=0.5, random_state=9)"
   ]
  },
  {
   "cell_type": "code",
   "execution_count": 91,
   "metadata": {},
   "outputs": [
    {
     "name": "stdout",
     "output_type": "stream",
     "text": [
      "Learning rate: 0.0001, test score: 0.7201218667774546\n",
      "Learning rate: 0.0005, test score: 0.7298850574712644\n",
      "Learning rate: 0.0008, test score: 0.7359783963439966\n",
      "Learning rate: 0.0009, test score: 0.7431796150117712\n",
      "Learning rate: 0.001, test score: 0.7275308129067997\n",
      "Learning rate: 0.01, test score: 0.6690209112311314\n"
     ]
    }
   ],
   "source": [
    "\n",
    "# Set values\n",
    "hidden_layers = (128, 128, 128, 64,64,64)\n",
    "seed = 23\n",
    "\n",
    "# try different learning rates and get their scores\n",
    "lrs = [0.0001, 0.0005, 0.0008, 0.0009, 0.001, 0.01]\n",
    "for lr in lrs:\n",
    "    model = MLPClassifier(hidden_layer_sizes=hidden_layers, learning_rate_init=lr, random_state=seed, max_iter=150, early_stopping=True)\n",
    "\n",
    "    # Fit the MLPRegressor to training data\n",
    "    model.fit(X_train, y_train)\n",
    "\n",
    "    # Report Model performance\n",
    "    score_test = model.score(X_test, y_test)\n",
    "    #score_val = model.score(X_val, y_val)\n",
    "\n",
    "    print(f'Learning rate: {lr}, test score: {score_test}') #, validation score: {score_val}')\n"
   ]
  },
  {
   "cell_type": "code",
   "execution_count": 92,
   "metadata": {},
   "outputs": [
    {
     "name": "stdout",
     "output_type": "stream",
     "text": [
      "Layer type and sizes: (32, 32, 32), test score: 0.7190832294696026\n",
      "Layer type and sizes: (64, 64, 64), test score: 0.7233762636753912\n",
      "Layer type and sizes: (128, 128, 128), test score: 0.7446337072427641\n",
      "Layer type and sizes: (128, 128, 64, 64, 32, 32), test score: 0.7338318792411024\n",
      "Layer type and sizes: (128, 128, 128, 64, 64, 64), test score: 0.7431796150117712\n",
      "Layer type and sizes: (128, 128, 128, 64, 64, 64, 32, 32, 32), test score: 0.7271846004708489\n"
     ]
    }
   ],
   "source": [
    "\n",
    "#Take the best learning rate and train model with different layers\n",
    "lr = 0.0009\n",
    "hlrs = [(32,32,32),(64,64,64),(128,128,128),(128,128,64,64,32,32),(128,128,128,64,64,64),(128,128,128,64,64,64,32,32,32)]\n",
    "\n",
    "for hlr in hlrs:\n",
    "    model = MLPClassifier(hidden_layer_sizes=hlr, learning_rate_init=lr, random_state=seed, max_iter=150, early_stopping=True)\n",
    "\n",
    "    # Fit the MLPRegressor to training data\n",
    "    model.fit(X_train, y_train)\n",
    "\n",
    "    # Report Model performance\n",
    "    score_test = model.score(X_test, y_test)\n",
    "    #score_val = model.score(X_val, y_val)\n",
    "\n",
    "    print(f'Layer type and sizes: {hlr}, test score: {score_test}') #, validation score: {score_val}')"
   ]
  },
  {
   "cell_type": "code",
   "execution_count": 94,
   "metadata": {},
   "outputs": [
    {
     "name": "stdout",
     "output_type": "stream",
     "text": [
      "Layer type and sizes: (128, 128, 128), test score: 0.9064923554176822\n"
     ]
    }
   ],
   "source": [
    "# Build final model with more all data\n",
    "lr = 0.0008\n",
    "hlr = (128,128,128)\n",
    "\n",
    "model = MLPClassifier(hidden_layer_sizes=hlr, learning_rate_init=lr, random_state=seed, max_iter=500, early_stopping=True)\n",
    "\n",
    "# Fit the MLPRegressor to training data\n",
    "model.fit(X_train, y_train)\n",
    "\n",
    "# Report Model performance\n",
    "score_test = model.score(X_test, y_test)\n",
    "#score_val = model.score(X_val, y_val)\n",
    "\n",
    "print(f'Layer type and sizes: {hlr}, test score: {score_test}') #, validation score: {score_val}')"
   ]
  },
  {
   "cell_type": "code",
   "execution_count": 142,
   "metadata": {},
   "outputs": [
    {
     "data": {
      "text/plain": [
       "Text(0.5, 1.0, 'Delivery Status Loss Curve')"
      ]
     },
     "execution_count": 142,
     "metadata": {},
     "output_type": "execute_result"
    },
    {
     "data": {
      "image/png": "[encoded data removed]",
      "text/plain": [
       "<Figure size 640x480 with 1 Axes>"
      ]
     },
     "metadata": {},
     "output_type": "display_data"
    }
   ],
   "source": [
    "plt.plot(model.loss_curve_)\n",
    "plt.title('Delivery Status Loss Curve')"
   ]
  },
  {
   "cell_type": "code",
   "execution_count": 143,
   "metadata": {},
   "outputs": [
    {
     "data": {
      "text/plain": [
       "Text(0.5, 1.0, 'Delivery Status Validation Scores')"
      ]
     },
     "execution_count": 143,
     "metadata": {},
     "output_type": "execute_result"
    },
    {
     "data": {
      "image/png": "[encoded data removed]",
      "text/plain": [
       "<Figure size 640x480 with 1 Axes>"
      ]
     },
     "metadata": {},
     "output_type": "display_data"
    }
   ],
   "source": [
    "plt.plot(model.validation_scores_)\n",
    "plt.title('Delivery Status Validation Scores')"
   ]
  },
  {
   "cell_type": "code",
   "execution_count": 97,
   "metadata": {},
   "outputs": [
    {
     "data": {
      "text/plain": [
       "6732"
      ]
     },
     "execution_count": 97,
     "metadata": {},
     "output_type": "execute_result"
    }
   ],
   "source": [
    "model.n_features_in_"
   ]
  },
  {
   "cell_type": "code",
   "execution_count": 98,
   "metadata": {},
   "outputs": [
    {
     "data": {
      "text/plain": [
       "92"
      ]
     },
     "execution_count": 98,
     "metadata": {},
     "output_type": "execute_result"
    }
   ],
   "source": [
    "model.n_iter_"
   ]
  },
  {
   "cell_type": "code",
   "execution_count": 153,
   "metadata": {},
   "outputs": [
    {
     "data": {
      "text/plain": [
       "<sklearn.metrics._plot.confusion_matrix.ConfusionMatrixDisplay at 0x172c50f90>"
      ]
     },
     "execution_count": 153,
     "metadata": {},
     "output_type": "execute_result"
    },
    {
     "data": {
      "image/png": "[encoded data removed]",
      "text/plain": [
       "<Figure size 640x480 with 2 Axes>"
      ]
     },
     "metadata": {},
     "output_type": "display_data"
    }
   ],
   "source": [
    "y_pred = model.predict(X_test)\n",
    "cm = confusion_matrix(y_test, y_pred)\n",
    "\n",
    "ConfusionMatrixDisplay(cm, display_labels=list(df_sample[\"Delivery Status\"].drop_duplicates().values)).plot(cmap=\"GnBu\", xticks_rotation='vertical')"
   ]
  },
  {
   "cell_type": "code",
   "execution_count": 156,
   "metadata": {},
   "outputs": [
    {
     "data": {
      "text/plain": [
       "(array([0.96140859, 0.97458137, 0.9487013 , 0.96206133]),\n",
       " array([0.95840346, 0.98196605, 0.94197292, 0.94517782]),\n",
       " array([0.95990367, 0.97825978, 0.94532514, 0.95354485]),\n",
       " array([ 8318, 19796,  1551,  6439]))"
      ]
     },
     "execution_count": 156,
     "metadata": {},
     "output_type": "execute_result"
    }
   ],
   "source": [
    "precision_recall_fscore_support(y_test, y_pred)"
   ]
  },
  {
   "cell_type": "code",
   "execution_count": 127,
   "metadata": {},
   "outputs": [
    {
     "data": {
      "text/plain": [
       "['DeliveryStatusModel.pkl']"
      ]
     },
     "execution_count": 127,
     "metadata": {},
     "output_type": "execute_result"
    }
   ],
   "source": [
    "# Save model for future use\n",
    "import joblib\n",
    "\n",
    "joblib.dump(model, 'DeliveryStatusModel.pkl')\n",
    "\n",
    "# Code for reading the model\n",
    "# model = joblib.load('DeliveryStatusModel.pkl')"
   ]
  },
  {
   "cell_type": "markdown",
   "metadata": {},
   "source": [
    "## MLP 2 (Shipping Time)\n",
    "\n",
    "Create a MLP regressor for predicting the actual shipping time"
   ]
  },
  {
   "cell_type": "code",
   "execution_count": 157,
   "metadata": {},
   "outputs": [],
   "source": [
    "## Different X and y combinations\n",
    "df_sample = df_clean.sample(frac=1.0)\n",
    "\n",
    "# Using the difference between Days for shipment (scheduled) and days for shipping (real)\n",
    "X = df_sample.drop(columns=['Delivery Status', 'Days for shipping (real)', 'Order Status'])\n",
    "y = df_sample[\"Days for shipping (real)\"]\n",
    "\n",
    "# Scale and handle categorical data\n",
    "scaler = ColumnTransformer(transformers=[\n",
    "    ('onehot', OneHotEncoder(), [\n",
    "        'Type', 'Category Name', 'Customer City', 'Customer Country', 'Customer Segment', 'Customer State', 'Customer Zipcode',\n",
    "        'Department Name', 'Market', 'Order City', 'Order Country', 'Order Region', 'Order State', 'Product Name',\n",
    "        'Shipping Mode', 'order month', 'order weekday', 'order hour', 'order is weekend'\n",
    "    ]),\n",
    "    ('scale', StandardScaler(), [\n",
    "        'Days for shipment (scheduled)', 'Latitude', 'Longitude', 'Order Item Discount', 'Sales', 'Order Item Total', \n",
    "        'Order Profit Per Order', 'Product Price','total order sales', 'total orders in day', 'total order qty'\n",
    "    ])\n",
    "], remainder='passthrough')\n",
    "\n",
    "# scaler = StandardScaler()\n",
    "X = scaler.fit_transform(X)\n",
    "\n",
    "# Split train and test \n",
    "X_train, X_test, y_train, y_test = train_test_split(X, y, test_size=0.30, random_state=9, stratify=y)\n",
    "#X_val, X_test, y_val, y_test = train_test_split(X_tmp, y_tmp, test_size=0.5, random_state=9)\n"
   ]
  },
  {
   "cell_type": "code",
   "execution_count": 101,
   "metadata": {},
   "outputs": [],
   "source": [
    "def eval_model(model, X, y):\n",
    "    # Predict and evaluate\n",
    "    y_hat = model.predict(X)\n",
    "    mse = mean_squared_error(y, y_hat)\n",
    "    r2 = r2_score(y, y_hat)\n",
    "    return mse, r2"
   ]
  },
  {
   "cell_type": "code",
   "execution_count": 103,
   "metadata": {},
   "outputs": [
    {
     "name": "stdout",
     "output_type": "stream",
     "text": [
      "Learning rate: 0.0001: test MSE: 1.585814018609911, test r2: 0.3987097619825688\n",
      "Learning rate: 0.0005: test MSE: 1.5772480994356406, test r2: 0.4019576860888584\n",
      "Learning rate: 0.001: test MSE: 1.5217771877871813, test r2: 0.4229904914977698\n",
      "Learning rate: 0.002: test MSE: 1.5426810722572568, test r2: 0.41506440336826866\n",
      "Learning rate: 0.003: test MSE: 1.544937094398553, test r2: 0.4142089915265309\n",
      "Learning rate: 0.004: test MSE: 1.567879809762412, test r2: 0.4055098435684408\n",
      "Learning rate: 0.005: test MSE: 1.5558264528461336, test r2: 0.41008009314628924\n",
      "Learning rate: 0.01: test MSE: 1.5612798477941177, test r2: 0.4080123392307635\n"
     ]
    }
   ],
   "source": [
    "\n",
    "# Set values\n",
    "hidden_layers = (128, 128, 128, 64, 64, 64)\n",
    "seed = 23\n",
    "\n",
    "lrs = [0.0001, 0.0005, 0.001, 0.002, 0.003, 0.004, 0.005, 0.01]\n",
    "# Create MLP Regressor and train\n",
    "for lr in lrs:\n",
    "    model2 = MLPRegressor(hidden_layer_sizes=hidden_layers, learning_rate_init=lr, random_state=seed, max_iter=100, early_stopping=True)\n",
    "    model2.fit(X_train, y_train)\n",
    "\n",
    "    # Evaluate model\n",
    "    mse, r2 = eval_model(model2, X_test, y_test)\n",
    "    #mse_val, r2_val = eval_model(model2, X_val, y_val)\n",
    "    print(f'Learning rate: {lr}: test MSE: {mse}, test r2: {r2}') #; validation MSE: {mse_val}, validation r2: {r2_val}')"
   ]
  },
  {
   "cell_type": "code",
   "execution_count": 104,
   "metadata": {},
   "outputs": [
    {
     "name": "stdout",
     "output_type": "stream",
     "text": [
      "Layer type and sizes: (32, 32, 32): test MSE: 1.58451587374713, test r2: 0.3992019772261993\n",
      "Layer type and sizes: (64, 64, 64): test MSE: 1.5852843482624812, test r2: 0.39891059613180657\n",
      "Layer type and sizes: (128, 128, 128): test MSE: 1.516249433731315, test r2: 0.42508644002196505\n",
      "Layer type and sizes: (128, 128, 64, 64, 32, 32): test MSE: 1.5794075622964143, test r2: 0.4011388864551645\n",
      "Layer type and sizes: (128, 128, 128, 64, 64, 64): test MSE: 1.5217771877871813, test r2: 0.4229904914977698\n",
      "Layer type and sizes: (128, 128, 128, 64, 64, 64, 32, 32, 32): test MSE: 1.5848485989504568, test r2: 0.39907581841163786\n"
     ]
    }
   ],
   "source": [
    "\n",
    "#Take the best learning rate and train model with different layers\n",
    "lr = 0.001\n",
    "hlrs = [(32,32,32),(64,64,64),(128,128,128),(128,128,64,64,32,32),(128,128,128,64,64,64),(128,128,128,64,64,64,32,32,32)]\n",
    "\n",
    "scores_test_m2 = []\n",
    "scores_vals_m2 = []\n",
    "\n",
    "for hlr in hlrs:\n",
    "    model2 = MLPRegressor(hidden_layer_sizes=hlr, learning_rate_init=lr, random_state=seed, max_iter=100, early_stopping=True)\n",
    "    model2.fit(X_train, y_train)\n",
    "\n",
    "    # Evaluate model\n",
    "    mse, r2 = eval_model(model2, X_test, y_test)\n",
    "    #mse_val, r2_val = eval_model(model2, X_val, y_val)\n",
    "\n",
    "\n",
    "    scores_test_m2.append((mse, r2))\n",
    "    #scores_vals_m2.append((mse_val, r2_val))\n",
    "    print(f'Layer type and sizes: {hlr}: test MSE: {mse}, test r2: {r2}') #; validation MSE: {mse_val}, validation r2: {r2_val}')"
   ]
  },
  {
   "cell_type": "code",
   "execution_count": 107,
   "metadata": {},
   "outputs": [
    {
     "name": "stdout",
     "output_type": "stream",
     "text": [
      "Layer type and sizes: (128, 128, 128): test MSE: 0.569020865706757, test r2: 0.7841738440995134\n"
     ]
    }
   ],
   "source": [
    "#Take the best learning rate and layer architecture and try more epochs\n",
    "lr = 0.001\n",
    "hlr = (128,128,128)\n",
    "\n",
    "model2 = MLPRegressor(hidden_layer_sizes=hlr, learning_rate_init=lr, random_state=seed, max_iter=500, early_stopping=True)\n",
    "model2.fit(X_train, y_train)\n",
    "\n",
    "# Evaluate model\n",
    "mse, r2 = eval_model(model2, X_test, y_test)\n",
    "#mse_val, r2_val = eval_model(model2, X_val, y_val)\n",
    "\n",
    "print(f'Layer type and sizes: {hlr}: test MSE: {mse}, test r2: {r2}') #; validation MSE: {mse_val}, validation r2: {r2_val}')"
   ]
  },
  {
   "cell_type": "code",
   "execution_count": 147,
   "metadata": {},
   "outputs": [
    {
     "data": {
      "text/plain": [
       "Text(0.5, 1.0, 'Days for shipping (real) Loss Curve')"
      ]
     },
     "execution_count": 147,
     "metadata": {},
     "output_type": "execute_result"
    },
    {
     "data": {
      "image/png": "[encoded data removed]",
      "text/plain": [
       "<Figure size 640x480 with 1 Axes>"
      ]
     },
     "metadata": {},
     "output_type": "display_data"
    }
   ],
   "source": [
    "plt.plot(model2.loss_curve_)\n",
    "plt.title('Days for shipping (real) Loss Curve')"
   ]
  },
  {
   "cell_type": "code",
   "execution_count": 148,
   "metadata": {},
   "outputs": [
    {
     "data": {
      "text/plain": [
       "Text(0.5, 1.0, 'Days for shipping (real) Validation Scores')"
      ]
     },
     "execution_count": 148,
     "metadata": {},
     "output_type": "execute_result"
    },
    {
     "data": {
      "image/png": "[encoded data removed]",
      "text/plain": [
       "<Figure size 640x480 with 1 Axes>"
      ]
     },
     "metadata": {},
     "output_type": "display_data"
    }
   ],
   "source": [
    "plt.plot(model2.validation_scores_)\n",
    "plt.title('Days for shipping (real) Validation Scores')"
   ]
  },
  {
   "cell_type": "code",
   "execution_count": 66,
   "metadata": {},
   "outputs": [
    {
     "data": {
      "text/plain": [
       "37"
      ]
     },
     "execution_count": 66,
     "metadata": {},
     "output_type": "execute_result"
    }
   ],
   "source": [
    "model2.n_iter_"
   ]
  },
  {
   "cell_type": "code",
   "execution_count": 146,
   "metadata": {},
   "outputs": [
    {
     "data": {
      "text/plain": [
       "6732"
      ]
     },
     "execution_count": 146,
     "metadata": {},
     "output_type": "execute_result"
    }
   ],
   "source": [
    "model2.n_features_in_"
   ]
  },
  {
   "cell_type": "code",
   "execution_count": 130,
   "metadata": {},
   "outputs": [
    {
     "data": {
      "text/plain": [
       "['DeliveryDaysModel.pkl']"
      ]
     },
     "execution_count": 130,
     "metadata": {},
     "output_type": "execute_result"
    }
   ],
   "source": [
    "# Save model for future use\n",
    "import joblib\n",
    "\n",
    "joblib.dump(model2, 'DeliveryDaysModel.pkl')\n",
    "\n",
    "# Code for reading the model\n",
    "# model = joblib.load('DeliveryDaysModel.pkl')"
   ]
  },
  {
   "cell_type": "markdown",
   "metadata": {},
   "source": [
    "## Binary classification late or not late\n",
    "Regressor but to predict if it will go late or not"
   ]
  },
  {
   "cell_type": "code",
   "execution_count": null,
   "metadata": {},
   "outputs": [],
   "source": [
    "## Different X and y combinations\n",
    "df_sample = df_clean.sample(frac=0.2)\n",
    "\n",
    "# Using the difference  Days for shipment (scheduled) and days for shipping (real) (just as 1 if late 0 if in time) aka binary result\n",
    "X = df_sample.drop(columns=['Delivery Status', 'Days for shipping (real)', 'Order Status'])\n",
    "y = df_sample[\"Days for shipment (scheduled)\"] - df_sample[\"Days for shipping (real)\"]\n",
    "y = y.apply(lambda x: 1 if x < 0 else 0) # 1 if late, 0 if in time\n",
    "\n",
    "# Scale and handle categorical data\n",
    "scaler = ColumnTransformer(transformers=[\n",
    "    ('onehot', OneHotEncoder(), [\n",
    "        'Type', 'Category Name', 'Customer City', 'Customer Country', 'Customer Segment', 'Customer State', 'Customer Zipcode',\n",
    "        'Department Name', 'Market', 'Order City', 'Order Country', 'Order Region', 'Order State', 'Product Name',\n",
    "        'Shipping Mode', 'order month', 'order weekday', 'order hour', 'order is weekend'\n",
    "    ]),\n",
    "    ('scale', StandardScaler(), [\n",
    "        'Days for shipment (scheduled)', 'Latitude', 'Longitude', 'Order Item Discount', 'Sales', 'Order Item Total',\n",
    "        'Order Profit Per Order', 'Product Price','total order sales', 'total orders in day', 'total order qty'\n",
    "    ])\n",
    "], remainder='passthrough')\n",
    "\n",
    "# scaler = StandardScaler()\n",
    "X = scaler.fit_transform(X)\n",
    "\n",
    "# Split train and test\n",
    "X_train, X_test, y_train, y_test = train_test_split(X, y, test_size=0.2, random_state=9, stratify=y)\n",
    "#X_val, X_test, y_val, y_test = train_test_split(X_tmp, y_tmp, test_size=0.5, random_state=9)"
   ]
  },
  {
   "cell_type": "markdown",
   "metadata": {},
   "source": [
    "Ensemble"
   ]
  },
  {
   "cell_type": "code",
   "execution_count": null,
   "metadata": {},
   "outputs": [],
   "source": [
    "from sklearn.ensemble import RandomForestClassifier, GradientBoostingClassifier, AdaBoostClassifier, BaggingClassifier\n",
    "from sklearn.model_selection import train_test_split, GridSearchCV\n",
    "from sklearn.metrics import accuracy_score\n",
    "from category_encoders import TargetEncoder\n",
    "import pandas as pd\n",
    "\n",
    "\n",
    "# Model Initialization (Ensemble methods)\n",
    "rf_model = RandomForestClassifier(random_state=42)\n",
    "ab_model = AdaBoostClassifier(random_state=42)\n",
    "\n",
    "# Define hyperparameters grid for each model\n",
    "param_grid_rf = {\n",
    "    'n_estimators': [50, 100, 200, 500, 1000],\n",
    "    'max_depth': [None, 5, 10],\n",
    "    'max_features': ['sqrt', 0.5, 0.75],\n",
    "    'max_samples': [0.5, 1.0]\n",
    "}\n",
    "\n",
    "\n",
    "param_grid_ab = {\n",
    "    'n_estimators': [50, 100, 200,500,1000],\n",
    "    'learning_rate': [1, 0.1, 0.01]\n",
    "}\n",
    "\n",
    "\n",
    "# Create GridSearchCV for each model\n",
    "grid_rf = GridSearchCV(rf_model, param_grid_rf, cv=5, scoring='accuracy')\n",
    "grid_ab = GridSearchCV(ab_model, param_grid_ab, cv=5, scoring='accuracy')\n",
    "\n",
    "# Fit the models with GridSearchCV\n",
    "grid_rf.fit(X_train, y_train)\n",
    "grid_ab.fit(X_train, y_train)\n",
    "\n",
    "# Get best scores and best parameters\n",
    "best_scores = {\n",
    "    'Random Forest': grid_rf.best_score_,\n",
    "    'AdaBoost': grid_ab.best_score_,\n",
    "}\n",
    "\n",
    "best_params = {\n",
    "    'Random Forest': grid_rf.best_params_,\n",
    "    'AdaBoost': grid_ab.best_params_,\n",
    "}\n",
    "\n",
    "# Display best scores and best parameters\n",
    "print(\"Best Scores:\")\n",
    "for model, score in best_scores.items():\n",
    "    print(f\"{model}: {score:.4f}\")\n",
    "\n",
    "print(\"\\nBest Parameters:\")\n",
    "for model, params in best_params.items():\n",
    "    print(f\"{model}: {params}\")\n"
   ]
  },
  {
   "cell_type": "code",
   "execution_count": null,
   "metadata": {},
   "outputs": [],
   "source": [
    "from sklearn.metrics import ConfusionMatrixDisplay\n",
    "\n",
    "classifiers = {\n",
    "    'Random Forest': grid_rf.best_estimator_,\n",
    "    'AdaBoost': grid_ab.best_estimator_\n",
    "}\n",
    "\n",
    "for clf_name, clf in classifiers.items():\n",
    "    y_pred = clf.predict(X_test)\n",
    "    disp = ConfusionMatrixDisplay(confusion_matrix(y_test, y_pred), display_labels=clf.classes_)\n",
    "    disp.plot(cmap=plt.cm.Blues)\n",
    "    plt.title(f'Confusion Matrix - {clf_name}')\n",
    "    plt.show()\n"
   ]
  },
  {
   "cell_type": "code",
   "execution_count": null,
   "metadata": {},
   "outputs": [],
   "source": [
    "# Get feature importances\n",
    "feature_importances = {\n",
    "    'Random Forest': grid_rf.best_estimator_.feature_importances_,\n",
    "    'AdaBoost': grid_ab.best_estimator_.feature_importances_\n",
    "}\n",
    "\n",
    "plt.figure(figsize=(12, 6))\n",
    "for clf_name, importances in feature_importances.items():\n",
    "    plt.figure()\n",
    "    sorted_indices = importances.argsort()[::-1][:10]  # Top 10 important features\n",
    "    plt.barh(range(10), importances[sorted_indices], align='center')\n",
    "    plt.yticks(range(10), X.columns[sorted_indices])\n",
    "    plt.xlabel('Feature Importance')\n",
    "    plt.title(f'Top 10 Feature Importances for {clf_name}')\n",
    "    plt.show()\n"
   ]
  },
  {
   "cell_type": "markdown",
   "metadata": {},
   "source": [
    "SVM"
   ]
  },
  {
   "cell_type": "code",
   "execution_count": null,
   "metadata": {},
   "outputs": [],
   "source": [
    "import numpy as np\n",
    "from sklearn.preprocessing import StandardScaler\n",
    "from sklearn.svm import SVC\n",
    "from sklearn.linear_model import LogisticRegression\n",
    "from sklearn.metrics import make_scorer, accuracy_score\n",
    "from sklearn.model_selection import train_test_split, cross_val_score\n",
    "\n",
    "def search_best_svm(kernel, C_search_space, random_state):\n",
    "    best_score = -np.inf\n",
    "    for C in C_search_space:\n",
    "        # Initialize an SVM classifier with the specified kernel type, C value, and random state\n",
    "        ### START CODE ###\n",
    "        svm_classifier = SVC(kernel=kernel, C=C, random_state=random_state)\n",
    "        ### END CODE ###\n",
    "\n",
    "        # Evaluate accuracy scores using 5-fold cross-validation scores\n",
    "        ### START CODE ###\n",
    "        cv_scores = cross_val_score(svm_classifier, X_train, y_train, cv=5)\n",
    "        ### END CODE ###\n",
    "\n",
    "        # Compute the average score and compare with the current best score to update the best C\n",
    "        ### START CODE ###\n",
    "        score = cv_scores.mean()\n",
    "        if score>best_score:\n",
    "            best_score = score\n",
    "            best_C = C\n",
    "        ### END CODE ###\n",
    "        print(f\"C: {C} Avg Cross Val Score: {np.round(score, 4)}\")\n",
    "\n",
    "    print(f\"Best C: {best_C}\")\n",
    "\n",
    "    # Initialize the model using the specified kernel type, best C, and random state;\n",
    "    # and then fit the model using training set\n",
    "    ### START CODE ###\n",
    "    model = SVC(kernel=kernel, C=best_C, random_state=random_state)\n",
    "    # Fit the model using the full training set\n",
    "    model.fit(X_train, y_train)\n",
    "    ### END CODE ###\n",
    "    return model, best_C"
   ]
  },
  {
   "cell_type": "code",
   "execution_count": null,
   "metadata": {},
   "outputs": [],
   "source": [
    "C_values = [0.1, 1, 10, 100]\n",
    "\n",
    "# Train SVM models with different kernels\n",
    "# linear_model, linear_best_C = search_best_svm(kernel='linear', C_search_space=C_values, random_state=42)\n",
    "poly_model, poly_best_C = search_best_svm(kernel='poly', C_search_space=C_values, random_state=42)\n",
    "rbf_model, rbf_best_C = search_best_svm(kernel='rbf', C_search_space=C_values, random_state=42)\n",
    "\n",
    "#get accuracy scores\n",
    "# linear_test_accuracy = linear_model.score(X_test, y_test)\n",
    "poly_test_accuracy = poly_model.score(X_test, y_test)\n",
    "rbf_test_accuracy = rbf_model.score(X_test, y_test)\n",
    "\n",
    "# print(f\"Linear SVM Test Accuracy: {linear_test_accuracy:.4f}\")\n",
    "print(f\"Polynomial SVM Test Accuracy: {poly_test_accuracy:.4f}\")\n",
    "print(f\"RBF SVM Test Accuracy: {rbf_test_accuracy:.4f}\")\n"
   ]
  },
  {
   "cell_type": "markdown",
   "metadata": {},
   "source": [
    "MLP"
   ]
  },
  {
   "cell_type": "code",
   "execution_count": 159,
   "metadata": {},
   "outputs": [],
   "source": [
    "## Different X and y combinations\n",
    "df_sample = df_clean.sample(frac=1.0)\n",
    "\n",
    "# Using the difference  Days for shipment (scheduled) and days for shipping (real) (just as 1 if late 0 if in time) aka binary result\n",
    "X = df_sample.drop(columns=['Delivery Status', 'Days for shipping (real)', 'Order Status'])\n",
    "y = df_sample[\"Days for shipment (scheduled)\"] - df_sample[\"Days for shipping (real)\"]\n",
    "y = y.apply(lambda x: 1 if x < 0 else 0) # 1 if late, 0 if in time\n",
    "\n",
    "# Scale and handle categorical data\n",
    "scaler = ColumnTransformer(transformers=[\n",
    "    ('onehot', OneHotEncoder(), [\n",
    "        'Type', 'Category Name', 'Customer City', 'Customer Country', 'Customer Segment', 'Customer State', 'Customer Zipcode',\n",
    "        'Department Name', 'Market', 'Order City', 'Order Country', 'Order Region', 'Order State', 'Product Name',\n",
    "        'Shipping Mode', 'order month', 'order weekday', 'order hour', 'order is weekend'\n",
    "    ]),\n",
    "    ('scale', StandardScaler(), [\n",
    "        'Days for shipment (scheduled)', 'Latitude', 'Longitude', 'Order Item Discount', 'Sales', 'Order Item Total', \n",
    "        'Order Profit Per Order', 'Product Price','total order sales', 'total orders in day', 'total order qty'\n",
    "    ])\n",
    "], remainder='passthrough')\n",
    "\n",
    "# scaler = StandardScaler()\n",
    "X = scaler.fit_transform(X)\n",
    "\n",
    "# Split train and test \n",
    "X_train, X_test, y_train, y_test = train_test_split(X, y, test_size=0.30, random_state=9, stratify=y)\n",
    "#X_val, X_test, y_val, y_test = train_test_split(X_tmp, y_tmp, test_size=0.5, random_state=9)"
   ]
  },
  {
   "cell_type": "code",
   "execution_count": 111,
   "metadata": {},
   "outputs": [
    {
     "name": "stdout",
     "output_type": "stream",
     "text": [
      "Learning rate: 0.0001, test score: 0.7722278644631151\n",
      "Learning rate: 0.0008, test score: 0.7766134244298772\n",
      "Learning rate: 0.0009, test score: 0.7863078201458775\n",
      "Learning rate: 0.001, test score: 0.7803988551380298\n",
      "Learning rate: 0.002, test score: 0.7795217431446774\n",
      "Learning rate: 0.003, test score: 0.7801218724032869\n",
      "Learning rate: 0.01, test score: 0.7740282522389438\n"
     ]
    }
   ],
   "source": [
    "# Set values\n",
    "hidden_layers = (128, 128, 128, 64,64,64)\n",
    "seed = 23\n",
    "\n",
    "# try different learning rates and get their scores\n",
    "lrs = [0.0001, 0.0008, 0.0009, 0.001, 0.002, 0.003, 0.01]\n",
    "for lr in lrs:\n",
    "    model3 = MLPClassifier(hidden_layer_sizes=hidden_layers, learning_rate_init=lr, random_state=seed, max_iter=200, early_stopping=True)\n",
    "\n",
    "    # Fit the MLPRegressor to training data\n",
    "    model3.fit(X_train, y_train)\n",
    "\n",
    "    # Report Model performance\n",
    "    score_test = model3.score(X_test, y_test)\n",
    "    #score_val = model3.score(X_val, y_val)\n",
    "\n",
    "    print(f'Learning rate: {lr}, test score: {score_test}') #, validation score: {score_val}')\n"
   ]
  },
  {
   "cell_type": "code",
   "execution_count": 112,
   "metadata": {},
   "outputs": [
    {
     "name": "stdout",
     "output_type": "stream",
     "text": [
      "Layer type and sizes: (32, 32, 32), test score: 0.7821069153356107\n",
      "Layer type and sizes: (64, 64, 64), test score: 0.7925399316775921\n",
      "Layer type and sizes: (128, 128, 128), test score: 0.7862154925676299\n",
      "Layer type and sizes: (128, 128, 64, 64, 32, 32), test score: 0.783999630689687\n",
      "Layer type and sizes: (128, 128, 128, 64, 64, 64), test score: 0.7863078201458775\n",
      "Layer type and sizes: (128, 128, 128, 64, 64, 64, 32, 32, 32), test score: 0.7917089834733635\n"
     ]
    }
   ],
   "source": [
    "#Take the best learning rate and train a model with all data\n",
    "lr = 0.0009\n",
    "hlrs = [(32,32,32),(64,64,64),(128,128,128),(128,128,64,64,32,32),(128,128,128,64,64,64),(128,128,128,64,64,64,32,32,32)]\n",
    "\n",
    "scores_test = []\n",
    "scores_vals = []\n",
    "\n",
    "for hlr in hlrs:\n",
    "    model3 = MLPClassifier(hidden_layer_sizes=hlr, learning_rate_init=lr, random_state=seed, max_iter=150, early_stopping=True)\n",
    "\n",
    "    # Fit the MLPRegressor to training data\n",
    "    model3.fit(X_train, y_train)\n",
    "\n",
    "    # Report Model performance\n",
    "    score_test = model3.score(X_test, y_test)\n",
    "    #score_val = model3.score(X_val, y_val)\n",
    "\n",
    "    scores_test.append(score_test)\n",
    "    #scores_vals.append(score_val)\n",
    "\n",
    "    print(f'Layer type and sizes: {hlr}, test score: {score_test}') #, validation score: {score_val}')"
   ]
  },
  {
   "cell_type": "code",
   "execution_count": 121,
   "metadata": {},
   "outputs": [
    {
     "name": "stdout",
     "output_type": "stream",
     "text": [
      "Layer type and sizes: (64, 64, 64), test score: 0.9061213184378174\n"
     ]
    }
   ],
   "source": [
    "#Take the best learning rate and layer architecture and try more epochs\n",
    "lr = 0.001\n",
    "hlr = (64,64,64)\n",
    "\n",
    "\n",
    "model3 = MLPClassifier(hidden_layer_sizes=hlr, learning_rate_init=lr, random_state=seed, max_iter=500, early_stopping=True)\n",
    "\n",
    "# Fit the MLPRegressor to training data\n",
    "model3.fit(X_train, y_train)\n",
    "\n",
    "# Report Model performance\n",
    "score_test = model3.score(X_test, y_test)\n",
    "#score_val = model3.score(X_val, y_val)\n",
    "\n",
    "print(f'Layer type and sizes: {hlr}, test score: {score_test}')"
   ]
  },
  {
   "cell_type": "code",
   "execution_count": 149,
   "metadata": {},
   "outputs": [
    {
     "data": {
      "text/plain": [
       "Text(0.5, 1.0, 'Late Delivery Loss Curve')"
      ]
     },
     "execution_count": 149,
     "metadata": {},
     "output_type": "execute_result"
    },
    {
     "data": {
      "image/png": "[encoded data removed]",
      "text/plain": [
       "<Figure size 640x480 with 1 Axes>"
      ]
     },
     "metadata": {},
     "output_type": "display_data"
    }
   ],
   "source": [
    "plt.plot(model3.loss_curve_)\n",
    "plt.title('Late Delivery Loss Curve')"
   ]
  },
  {
   "cell_type": "code",
   "execution_count": 150,
   "metadata": {},
   "outputs": [
    {
     "data": {
      "text/plain": [
       "Text(0.5, 1.0, 'Late Delivery Validation Scores')"
      ]
     },
     "execution_count": 150,
     "metadata": {},
     "output_type": "execute_result"
    },
    {
     "data": {
      "image/png": "[encoded data removed]",
      "text/plain": [
       "<Figure size 640x480 with 1 Axes>"
      ]
     },
     "metadata": {},
     "output_type": "display_data"
    }
   ],
   "source": [
    "plt.plot(model3.validation_scores_)\n",
    "plt.title('Late Delivery Validation Scores')"
   ]
  },
  {
   "cell_type": "code",
   "execution_count": 124,
   "metadata": {},
   "outputs": [
    {
     "data": {
      "text/plain": [
       "56"
      ]
     },
     "execution_count": 124,
     "metadata": {},
     "output_type": "execute_result"
    }
   ],
   "source": [
    "model3.n_iter_"
   ]
  },
  {
   "cell_type": "code",
   "execution_count": 151,
   "metadata": {},
   "outputs": [
    {
     "data": {
      "text/plain": [
       "6732"
      ]
     },
     "execution_count": 151,
     "metadata": {},
     "output_type": "execute_result"
    }
   ],
   "source": [
    "model3.n_features_in_"
   ]
  },
  {
   "cell_type": "code",
   "execution_count": 160,
   "metadata": {},
   "outputs": [
    {
     "data": {
      "text/plain": [
       "<sklearn.metrics._plot.confusion_matrix.ConfusionMatrixDisplay at 0x172d12750>"
      ]
     },
     "execution_count": 160,
     "metadata": {},
     "output_type": "execute_result"
    },
    {
     "data": {
      "image/png": "[encoded data removed]",
      "text/plain": [
       "<Figure size 640x480 with 2 Axes>"
      ]
     },
     "metadata": {},
     "output_type": "display_data"
    }
   ],
   "source": [
    "y_pred = model3.predict(X_test)\n",
    "cm = confusion_matrix(y_test, y_pred)\n",
    "\n",
    "ConfusionMatrixDisplay(cm, display_labels=['Other Status', 'Late Delivery']).plot(cmap=\"GnBu\")"
   ]
  },
  {
   "cell_type": "code",
   "execution_count": 161,
   "metadata": {},
   "outputs": [
    {
     "data": {
      "text/plain": [
       "(array([0.93823492, 0.96623962]),\n",
       " array([0.95534904, 0.95309478]),\n",
       " array([0.94671464, 0.95962219]),\n",
       " array([23135, 31020]))"
      ]
     },
     "execution_count": 161,
     "metadata": {},
     "output_type": "execute_result"
    }
   ],
   "source": [
    "precision_recall_fscore_support(y_test, y_pred)"
   ]
  },
  {
   "cell_type": "code",
   "execution_count": 131,
   "metadata": {},
   "outputs": [
    {
     "data": {
      "text/plain": [
       "['LateDeliveryBinaryModel.pkl']"
      ]
     },
     "execution_count": 131,
     "metadata": {},
     "output_type": "execute_result"
    }
   ],
   "source": [
    "# Save model for future use\n",
    "import joblib\n",
    "\n",
    "joblib.dump(model, 'LateDeliveryBinaryModel.pkl')\n",
    "\n",
    "# Code for reading the model\n",
    "# model = joblib.load('LateDeliveryBinaryModel.pkl')"
   ]
  }
 ],
 "metadata": {
  "kernelspec": {
   "display_name": "MIS382N",
   "language": "python",
   "name": "python3"
  },
  "language_info": {
   "codemirror_mode": {
    "name": "ipython",
    "version": 3
   },
   "file_extension": ".py",
   "mimetype": "text/x-python",
   "name": "python",
   "nbconvert_exporter": "python",
   "pygments_lexer": "ipython3",
   "version": "3.11.4"
  },
  "orig_nbformat": 4
 },
 "nbformat": 4,
 "nbformat_minor": 2
}
